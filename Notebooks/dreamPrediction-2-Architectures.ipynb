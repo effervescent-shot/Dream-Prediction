{
 "cells": [
  {
   "cell_type": "code",
   "execution_count": 1,
   "metadata": {},
   "outputs": [
    {
     "name": "stderr",
     "output_type": "stream",
     "text": [
      "/home/ezgi/anaconda3/lib/python3.6/site-packages/h5py/__init__.py:36: FutureWarning: Conversion of the second argument of issubdtype from `float` to `np.floating` is deprecated. In future, it will be treated as `np.float64 == np.dtype(float).type`.\n",
      "  from ._conv import register_converters as _register_converters\n",
      "Using TensorFlow backend.\n"
     ]
    }
   ],
   "source": [
    "%matplotlib inline\n",
    "import numpy as np\n",
    "import pandas as pd\n",
    "import matplotlib.pyplot as plt\n",
    "import scipy.io as sio\n",
    "from sklearn.model_selection import train_test_split\n",
    "from keras.utils import np_utils"
   ]
  },
  {
   "cell_type": "code",
   "execution_count": 37,
   "metadata": {},
   "outputs": [],
   "source": [
    "from keras.models import Sequential\n",
    "from keras.layers import Dense\n",
    "from keras import regularizers\n",
    "from keras import optimizers\n",
    "from keras import initializers\n",
    "from keras.layers import Dense, Conv2D, Flatten, MaxPooling2D\n"
   ]
  },
  {
   "cell_type": "code",
   "execution_count": 3,
   "metadata": {},
   "outputs": [],
   "source": [
    "from dreamUtils import *"
   ]
  },
  {
   "cell_type": "markdown",
   "metadata": {},
   "source": [
    "## Data Load "
   ]
  },
  {
   "cell_type": "code",
   "execution_count": 4,
   "metadata": {},
   "outputs": [],
   "source": [
    "locs_3D = sio.loadmat('./data/channelcoords.mat')['locstemp']"
   ]
  },
  {
   "cell_type": "code",
   "execution_count": 5,
   "metadata": {},
   "outputs": [
    {
     "data": {
      "text/plain": [
       "numpy.ndarray"
      ]
     },
     "execution_count": 5,
     "metadata": {},
     "output_type": "execute_result"
    }
   ],
   "source": [
    "type(locs_3D)"
   ]
  },
  {
   "cell_type": "code",
   "execution_count": 6,
   "metadata": {},
   "outputs": [
    {
     "data": {
      "text/plain": [
       "(60003, 257)"
      ]
     },
     "execution_count": 6,
     "metadata": {},
     "output_type": "execute_result"
    }
   ],
   "source": [
    "single_trial = (sio.loadmat('./data/JL02trial_1.mat')['a_trial']).T\n",
    "single_trial.shape"
   ]
  },
  {
   "cell_type": "code",
   "execution_count": 7,
   "metadata": {},
   "outputs": [
    {
     "data": {
      "text/plain": [
       "(10000, 256)"
      ]
     },
     "execution_count": 7,
     "metadata": {},
     "output_type": "execute_result"
    }
   ],
   "source": [
    "#take last 20 seconds and 256 electrodes\n",
    "#referecence electrode is excluded\n",
    "single_trial = single_trial[-10000:,0:256]\n",
    "single_trial.shape\n"
   ]
  },
  {
   "cell_type": "code",
   "execution_count": 8,
   "metadata": {},
   "outputs": [
    {
     "data": {
      "text/plain": [
       "(10000,)"
      ]
     },
     "execution_count": 8,
     "metadata": {},
     "output_type": "execute_result"
    }
   ],
   "source": [
    "#random labels for test purpose\n",
    "single_trial_labels = np.random.randint(3, size= single_trial.shape[0])\n",
    "single_trial_labels.shape"
   ]
  },
  {
   "cell_type": "code",
   "execution_count": 9,
   "metadata": {},
   "outputs": [],
   "source": [
    "X_train, X_test, y_train, y_test = train_test_split(single_trial, single_trial_labels, \\\n",
    "                                                    test_size=0.2, random_state=1453)"
   ]
  },
  {
   "cell_type": "code",
   "execution_count": 10,
   "metadata": {},
   "outputs": [],
   "source": [
    "# encode labels as one-hot vectors\n",
    "y_train = np_utils.to_categorical(y_train)\n",
    "y_test = np_utils.to_categorical(y_test)"
   ]
  },
  {
   "cell_type": "code",
   "execution_count": 11,
   "metadata": {},
   "outputs": [
    {
     "name": "stdout",
     "output_type": "stream",
     "text": [
      "Interpolated 100/100\r",
      "\r"
     ]
    }
   ],
   "source": [
    "locs_2D = map_to_2d(locs_3D)\n",
    "images = gen_images(locs_2D, X_train[:100,:] , 32, normalize=False,\n",
    "               augment=False, pca=False, std_mult=0.1, n_components=2, edgeless=False)"
   ]
  },
  {
   "cell_type": "markdown",
   "metadata": {},
   "source": [
    "## Simple NN"
   ]
  },
  {
   "cell_type": "code",
   "execution_count": 56,
   "metadata": {},
   "outputs": [],
   "source": [
    "# TWO HIDDEN LAYER NN \n",
    "\n",
    "model = Sequential()\n",
    "# first layer\n",
    "model.add(Dense(128,   # or 100\n",
    "                input_dim=256, \n",
    "                kernel_initializer='normal',   # 'normal', initializers.Constant(value=0), ...\n",
    "#                 kernel_regularizer=regularizers.l2(0.01),  # smooth filters, but bad accuracy\n",
    "                activation='sigmoid'))  # 'relu', 'sigmoid', 'tanh', ...\n",
    "# second layer\n",
    "model.add(Dense(32, \n",
    "                kernel_initializer='normal',   # 'normal', ...\n",
    "#                 kernel_regularizer=regularizers.l2(0.1),  # smooth filters, but bad accuracy\n",
    "                activation='sigmoid'))\n",
    "# third layer\n",
    "model.add(Dense(8, \n",
    "                kernel_initializer='normal',   # 'normal', ...\n",
    "#                 kernel_regularizer=regularizers.l2(0.1),  # smooth filters, but bad accuracy\n",
    "                activation='sigmoid'))\n",
    "\n",
    "# last layer\n",
    "model.add(Dense(3, \n",
    "                kernel_initializer='normal',   # 'normal', ...\n",
    "#                 kernel_regularizer=regularizers.l2(0.1),  # smooth filters, but bad accuracy\n",
    "                activation='softmax'))\n",
    "\n",
    "\n",
    "# compile\n",
    "model.compile(loss='categorical_crossentropy',\n",
    "              optimizer='adam', # 'adam', optimizers.SGD(lr=0.1), ...\n",
    "              metrics=['accuracy'])"
   ]
  },
  {
   "cell_type": "code",
   "execution_count": 60,
   "metadata": {},
   "outputs": [],
   "source": [
    "# model.fit(X_train, y_train, validation_data=(X_test, y_test), epochs=10, batch_size=10, verbose=2)\n",
    "# scores = model.evaluate(X_test, y_test, verbose=0)\n",
    "# print(\"Baseline Error: %.2f%%\" % (100-scores[1]*100))"
   ]
  },
  {
   "cell_type": "markdown",
   "metadata": {},
   "source": [
    "## Simple CNN  (for 16x16 EEG images)¶"
   ]
  },
  {
   "cell_type": "code",
   "execution_count": null,
   "metadata": {},
   "outputs": [],
   "source": [
    "X_train_16 = X_train.reshape(-1,16,16,1)\n",
    "X_test_16 = X_test.reshape(-1,16,16,1)"
   ]
  },
  {
   "cell_type": "code",
   "execution_count": null,
   "metadata": {},
   "outputs": [],
   "source": [
    "X_train_16.shape"
   ]
  },
  {
   "cell_type": "code",
   "execution_count": null,
   "metadata": {},
   "outputs": [],
   "source": [
    "# create model\n",
    "model = Sequential()\n",
    "# add layers\n",
    "model.add(Conv2D(64, kernel_size=3, activation='relu', input_shape=(16,16,1)))\n",
    "model.add(Conv2D(32, kernel_size=3, activation='relu'))\n",
    "model.add(Flatten())\n",
    "model.add(Dense(3, activation='softmax'))"
   ]
  },
  {
   "cell_type": "code",
   "execution_count": null,
   "metadata": {},
   "outputs": [],
   "source": [
    "# compile model\n",
    "model.compile(optimizer='adam', loss='categorical_crossentropy', metrics=['accuracy'])"
   ]
  },
  {
   "cell_type": "code",
   "execution_count": null,
   "metadata": {},
   "outputs": [],
   "source": [
    "# train the model\n",
    "#model.fit(X_train_16, y_train, validation_data=(X_test_16, y_test), epochs=10)"
   ]
  },
  {
   "cell_type": "markdown",
   "metadata": {},
   "source": [
    "## Simple CNN (AEP for 32x32 images)\n",
    "### Architecture D (Bashivan2016)"
   ]
  },
  {
   "cell_type": "code",
   "execution_count": 12,
   "metadata": {},
   "outputs": [
    {
     "name": "stdout",
     "output_type": "stream",
     "text": [
      "Interpolated 2000/2000"
     ]
    }
   ],
   "source": [
    "# AEP map of electrodes from 3D to 2D space \n",
    "locs_2D = map_to_2d(locs_3D)\n",
    "# Generate single-channel train images\n",
    "train_images = gen_images(locs_2D, X_train , 32, normalize=False,\n",
    "                augment=False, pca=False, std_mult=0.1, n_components=2, edgeless=False)\n",
    "# Generate single-channel test images\n",
    "test_images = gen_images(locs_2D, X_test , 32, normalize=False,\n",
    "                augment=False, pca=False, std_mult=0.1, n_components=2, edgeless=False)\n",
    "\n"
   ]
  },
  {
   "cell_type": "code",
   "execution_count": 13,
   "metadata": {},
   "outputs": [
    {
     "data": {
      "text/plain": [
       "(8000, 1, 32, 32)"
      ]
     },
     "execution_count": 13,
     "metadata": {},
     "output_type": "execute_result"
    }
   ],
   "source": [
    "train_images.shape"
   ]
  },
  {
   "cell_type": "code",
   "execution_count": 14,
   "metadata": {},
   "outputs": [
    {
     "data": {
      "text/plain": [
       "<matplotlib.image.AxesImage at 0x7f1eb49fe550>"
      ]
     },
     "execution_count": 14,
     "metadata": {},
     "output_type": "execute_result"
    },
    {
     "data": {
      "image/png": "[encoded data removed]",
      "text/plain": [
       "<Figure size 288x288 with 1 Axes>"
      ]
     },
     "metadata": {},
     "output_type": "display_data"
    }
   ],
   "source": [
    "plt.matshow(train_images[5].reshape(32,32))"
   ]
  },
  {
   "cell_type": "code",
   "execution_count": 15,
   "metadata": {},
   "outputs": [],
   "source": [
    "#check how transpose function works\n",
    "#deneme = np.transpose(train_images, (0,2,3,1))"
   ]
  },
  {
   "cell_type": "code",
   "execution_count": 33,
   "metadata": {},
   "outputs": [],
   "source": [
    "#correct input shape before feeding to CNN\n",
    "X_train_32 = train_images.reshape(-1,32,32,1)\n",
    "X_test_32 = test_images.reshape(-1,32,32,1)"
   ]
  },
  {
   "cell_type": "code",
   "execution_count": 44,
   "metadata": {},
   "outputs": [],
   "source": [
    "# create model\n",
    "model = Sequential()\n",
    "# add layers\n",
    "# activation is NONE  #model.add(Conv2D(32, kernel_size=3, activation='relu'))\n",
    "\n",
    "model.add(Conv2D(32, kernel_size=3, input_shape=(32,32,1), kernel_initializer='glorot_uniform'))\n",
    "model.add(Conv2D(32, kernel_size=3, padding='same', kernel_initializer='glorot_uniform'))\n",
    "model.add(Conv2D(32, kernel_size=3, padding='same', kernel_initializer='glorot_uniform'))\n",
    "model.add(Conv2D(32, kernel_size=3, padding='same', kernel_initializer='glorot_uniform'))\n",
    "model.add(MaxPooling2D(pool_size=(2, 2), strides=None, padding='valid', data_format='channels_last'))\n",
    "# after max-pooling\n",
    "model.add(Conv2D(64, kernel_size=3, padding='same', kernel_initializer='glorot_uniform'))\n",
    "model.add(Conv2D(64, kernel_size=3, padding='same', kernel_initializer='glorot_uniform'))\n",
    "model.add(MaxPooling2D(pool_size=(2, 2), strides=None, padding='valid', data_format='channels_last'))\n",
    "# another max-pooling\n",
    "model.add(Conv2D(128, kernel_size=3, padding='same', kernel_initializer='glorot_uniform'))\n",
    "model.add(MaxPooling2D(pool_size=(2, 2), strides=None, padding='valid', data_format='channels_last'))\n",
    "# fully connected layer\n",
    "model.add(Flatten())\n",
    "model.add(Dense(512))\n",
    "model.add(Dense(3, activation='softmax'))"
   ]
  },
  {
   "cell_type": "code",
   "execution_count": 45,
   "metadata": {},
   "outputs": [],
   "source": [
    "# compile model\n",
    "model.compile(optimizer='adam', loss='categorical_crossentropy', metrics=['accuracy'])"
   ]
  },
  {
   "cell_type": "code",
   "execution_count": 47,
   "metadata": {},
   "outputs": [],
   "source": [
    "# train the model\n",
    "#model.fit(X_train_32, y_train, validation_data=(X_test_32, y_test), epochs=10)"
   ]
  },
  {
   "cell_type": "markdown",
   "metadata": {},
   "source": [
    "## Simple CNN (AEP for 32x32 images - Multichannel)"
   ]
  },
  {
   "cell_type": "code",
   "execution_count": 48,
   "metadata": {},
   "outputs": [],
   "source": [
    "## format data in correct manner\n",
    "\n"
   ]
  },
  {
   "cell_type": "code",
   "execution_count": null,
   "metadata": {},
   "outputs": [],
   "source": [
    "# create model\n",
    "model = Sequential()\n",
    "# add layers\n",
    "# activation is NONE  #model.add(Conv2D(32, kernel_size=3, activation='relu'))\n",
    "\n",
    "model.add(Conv2D(32, kernel_size=3, input_shape=(32,32,1), kernel_initializer='glorot_uniform'))\n",
    "model.add(Conv2D(32, kernel_size=3, padding='same', kernel_initializer='glorot_uniform'))\n",
    "model.add(Conv2D(32, kernel_size=3, padding='same', kernel_initializer='glorot_uniform'))\n",
    "model.add(Conv2D(32, kernel_size=3, padding='same', kernel_initializer='glorot_uniform'))\n",
    "model.add(MaxPooling2D(pool_size=(2, 2), strides=None, padding='valid', data_format='channels_last'))\n",
    "# after max-pooling\n",
    "model.add(Conv2D(64, kernel_size=3, padding='same', kernel_initializer='glorot_uniform'))\n",
    "model.add(Conv2D(64, kernel_size=3, padding='same', kernel_initializer='glorot_uniform'))\n",
    "model.add(MaxPooling2D(pool_size=(2, 2), strides=None, padding='valid', data_format='channels_last'))\n",
    "# another max-pooling\n",
    "model.add(Conv2D(128, kernel_size=3, padding='same', kernel_initializer='glorot_uniform'))\n",
    "model.add(MaxPooling2D(pool_size=(2, 2), strides=None, padding='valid', data_format='channels_last'))\n",
    "# fully connected layer\n",
    "model.add(Flatten())\n",
    "model.add(Dense(512))\n",
    "model.add(Dense(3, activation='softmax'))"
   ]
  },
  {
   "cell_type": "code",
   "execution_count": null,
   "metadata": {},
   "outputs": [],
   "source": [
    "# compile model\n",
    "model.compile(optimizer='adam', loss='categorical_crossentropy', metrics=['accuracy'])"
   ]
  },
  {
   "cell_type": "code",
   "execution_count": null,
   "metadata": {},
   "outputs": [],
   "source": [
    "# train the model\n",
    "#model.fit(X_train_32, y_train, validation_data=(X_test_32, y_test), epochs=10)"
   ]
  },
  {
   "cell_type": "markdown",
   "metadata": {},
   "source": [
    "## Simple CNN (for Tx32x32 EEG Videos)"
   ]
  },
  {
   "cell_type": "code",
   "execution_count": 22,
   "metadata": {},
   "outputs": [],
   "source": [
    "from keras.preprocessing.image import ImageDataGenerator\n",
    "from keras.models import Sequential\n",
    "from keras.layers.core import Dense, Dropout, Activation, Flatten\n",
    "from keras.layers.convolutional import Convolution3D, MaxPooling3D\n",
    "from keras.optimizers import SGD, RMSprop\n",
    "from keras.utils import np_utils, generic_utils\n",
    "import theano\n",
    "import cv2 as cv\n",
    "from keras.layers import Conv3D"
   ]
  },
  {
   "cell_type": "code",
   "execution_count": 25,
   "metadata": {},
   "outputs": [
    {
     "data": {
      "text/plain": [
       "(8000, 32, 32, 1)"
      ]
     },
     "execution_count": 25,
     "metadata": {},
     "output_type": "execute_result"
    }
   ],
   "source": [
    "X_train_32.shape"
   ]
  },
  {
   "cell_type": "code",
   "execution_count": null,
   "metadata": {},
   "outputs": [],
   "source": [
    "X_train_v.shape"
   ]
  },
  {
   "cell_type": "code",
   "execution_count": 27,
   "metadata": {},
   "outputs": [],
   "source": [
    "# how many frame a video will consist\n",
    "#####TODO: do not forget to divide labels\n",
    "def divide_into_timeslots(time_slot, data):\n",
    "    data_list = []\n",
    "    for t in range(int(data.shape[0]/time_slot)):\n",
    "        data_list.append(data[t * time_slot:(t + 1) * time_slot,:,:,:])\n",
    "\n",
    "    return np.asarray(data_list)"
   ]
  },
  {
   "cell_type": "code",
   "execution_count": 28,
   "metadata": {},
   "outputs": [],
   "source": [
    "X_train_v_100 = divide_into_timeslots(time_slot= 10, data= X_train_32)\n",
    "X_test_v_100 =  divide_into_timeslots(time_slot= 10, data= X_test_32)"
   ]
  },
  {
   "cell_type": "code",
   "execution_count": 29,
   "metadata": {},
   "outputs": [
    {
     "data": {
      "text/plain": [
       "(800, 10, 32, 32, 1)"
      ]
     },
     "execution_count": 29,
     "metadata": {},
     "output_type": "execute_result"
    }
   ],
   "source": [
    "X_train_v_100.shape"
   ]
  },
  {
   "cell_type": "code",
   "execution_count": 52,
   "metadata": {},
   "outputs": [],
   "source": [
    "# create model\n",
    "model = Sequential()\n",
    "# add layers\n",
    "model.add(Conv3D(32, kernel_size=3, input_shape=(10,32,32,1)))\n",
    "model.add(Conv3D(32, kernel_size=3, strides=(1,1,1), dilation_rate=(1,1,1), padding='same' ))\n",
    "model.add(Conv3D(32, kernel_size=3, strides=(1,1,1), dilation_rate=(1,1,1), padding='same' ))\n",
    "model.add(Conv3D(32, kernel_size=3, strides=(1,1,1), dilation_rate=(1,1,1), padding='same' ))\n",
    "model.add(MaxPooling3D(pool_size=(2,2,2), strides=None, padding='valid', data_format='channels_last'))\n",
    "# new layer\n",
    "model.add(Conv3D(64, kernel_size=3, strides=(1,1,1), dilation_rate=(1,1,1), padding='same' ))\n",
    "model.add(Conv3D(64, kernel_size=3, strides=(1,1,1), dilation_rate=(1,1,1), padding='same' ))\n",
    "model.add(MaxPooling3D(pool_size=(2,2,2), strides=None, padding='valid', data_format='channels_last'))\n",
    "# flatten and check\n",
    "model.add(Flatten())\n",
    "model.add(Dense(128))\n",
    "model.add(Dense(3, activation='softmax'))"
   ]
  },
  {
   "cell_type": "code",
   "execution_count": 53,
   "metadata": {},
   "outputs": [],
   "source": [
    "# compile model\n",
    "model.compile(optimizer='adam', loss='categorical_crossentropy', metrics=['accuracy'])"
   ]
  },
  {
   "cell_type": "code",
   "execution_count": 55,
   "metadata": {},
   "outputs": [],
   "source": [
    "#train the model\n",
    "#model.fit(X_train_v_100,y_train[:800], validation_data=(X_test_v_100, y_test[:200]), epochs=1)"
   ]
  },
  {
   "cell_type": "markdown",
   "metadata": {},
   "source": [
    "## Simple CNN (for Tx32x32 EEG Videos - Multichannel)"
   ]
  },
  {
   "cell_type": "code",
   "execution_count": null,
   "metadata": {},
   "outputs": [],
   "source": [
    "# DO NOT FORGET TO CHANGE DATA FORMAT"
   ]
  },
  {
   "cell_type": "code",
   "execution_count": null,
   "metadata": {},
   "outputs": [],
   "source": [
    "# create model\n",
    "model = Sequential()\n",
    "# add layers\n",
    "model.add(Conv3D(32, kernel_size=3, input_shape=(10,32,32,2)))\n",
    "model.add(Conv3D(32, kernel_size=3, strides=(1,1,1), dilation_rate=(1,1,1), padding='same' ))\n",
    "model.add(Conv3D(32, kernel_size=3, strides=(1,1,1), dilation_rate=(1,1,1), padding='same' ))\n",
    "model.add(Conv3D(32, kernel_size=3, strides=(1,1,1), dilation_rate=(1,1,1), padding='same' ))\n",
    "model.add(MaxPooling3D(pool_size=(2,2,2), strides=None, padding='valid', data_format='channels_last'))\n",
    "# new layer\n",
    "model.add(Conv3D(64, kernel_size=3, strides=(1,1,1), dilation_rate=(1,1,1), padding='same' ))\n",
    "model.add(Conv3D(64, kernel_size=3, strides=(1,1,1), dilation_rate=(1,1,1), padding='same' ))\n",
    "model.add(MaxPooling3D(pool_size=(2,2,2), strides=None, padding='valid', data_format='channels_last'))\n",
    "# flatten and check\n",
    "model.add(Flatten())\n",
    "model.add(Dense(128))\n",
    "model.add(Dense(3, activation='softmax'))"
   ]
  },
  {
   "cell_type": "code",
   "execution_count": null,
   "metadata": {},
   "outputs": [],
   "source": [
    "# compile model\n",
    "model.compile(optimizer='adam', loss='categorical_crossentropy', metrics=['accuracy'])"
   ]
  },
  {
   "cell_type": "code",
   "execution_count": null,
   "metadata": {},
   "outputs": [],
   "source": [
    "#train the model\n",
    "#model.fit(X_train_v_100,y_train[:800], validation_data=(X_test_v_100, y_test[:200]), epochs=1)"
   ]
  },
  {
   "cell_type": "code",
   "execution_count": null,
   "metadata": {},
   "outputs": [],
   "source": []
  },
  {
   "cell_type": "code",
   "execution_count": 59,
   "metadata": {},
   "outputs": [],
   "source": []
  },
  {
   "cell_type": "code",
   "execution_count": null,
   "metadata": {},
   "outputs": [],
   "source": []
  },
  {
   "cell_type": "code",
   "execution_count": null,
   "metadata": {},
   "outputs": [],
   "source": []
  },
  {
   "cell_type": "markdown",
   "metadata": {},
   "source": [
    "## ConvNet+LSTM (Bashivan2016)"
   ]
  },
  {
   "cell_type": "code",
   "execution_count": null,
   "metadata": {},
   "outputs": [],
   "source": []
  },
  {
   "cell_type": "code",
   "execution_count": null,
   "metadata": {},
   "outputs": [],
   "source": []
  },
  {
   "cell_type": "markdown",
   "metadata": {},
   "source": [
    "## ConvNet+LSTM/1D-Conv(Bashivan2016)"
   ]
  },
  {
   "cell_type": "code",
   "execution_count": null,
   "metadata": {},
   "outputs": [],
   "source": []
  },
  {
   "cell_type": "code",
   "execution_count": null,
   "metadata": {},
   "outputs": [],
   "source": []
  },
  {
   "cell_type": "code",
   "execution_count": null,
   "metadata": {},
   "outputs": [],
   "source": []
  },
  {
   "cell_type": "code",
   "execution_count": null,
   "metadata": {},
   "outputs": [],
   "source": []
  },
  {
   "cell_type": "code",
   "execution_count": null,
   "metadata": {},
   "outputs": [],
   "source": []
  }
 ],
 "metadata": {
  "kernelspec": {
   "display_name": "Python 3",
   "language": "python",
   "name": "python3"
  },
  "language_info": {
   "codemirror_mode": {
    "name": "ipython",
    "version": 3
   },
   "file_extension": ".py",
   "mimetype": "text/x-python",
   "name": "python",
   "nbconvert_exporter": "python",
   "pygments_lexer": "ipython3",
   "version": "3.6.5"
  }
 },
 "nbformat": 4,
 "nbformat_minor": 2
}
