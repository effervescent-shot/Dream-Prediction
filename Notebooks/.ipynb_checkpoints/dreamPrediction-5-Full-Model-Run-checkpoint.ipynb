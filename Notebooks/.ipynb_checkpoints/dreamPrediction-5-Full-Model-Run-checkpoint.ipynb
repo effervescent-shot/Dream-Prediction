{
 "cells": [
  {
   "cell_type": "code",
   "execution_count": 1,
   "metadata": {},
   "outputs": [
    {
     "name": "stderr",
     "output_type": "stream",
     "text": [
      "Using TensorFlow backend.\n"
     ]
    },
    {
     "name": "stdout",
     "output_type": "stream",
     "text": [
      "Dream Networks are ready!\n"
     ]
    }
   ],
   "source": [
    "%matplotlib inline\n",
    "\n",
    "import warnings\n",
    "warnings.filterwarnings(\"ignore\")\n",
    "\n",
    "import os\n",
    "import numpy as np\n",
    "import pandas as pd\n",
    "import matplotlib.pyplot as plt\n",
    "import scipy.io as sio\n",
    "from sklearn.model_selection import train_test_split\n",
    "from keras.utils import np_utils\n",
    "\n",
    "from dreamUtils import *\n",
    "from dreamNetworks import *"
   ]
  },
  {
   "cell_type": "code",
   "execution_count": 2,
   "metadata": {},
   "outputs": [],
   "source": [
    "from sklearn.preprocessing import MinMaxScaler"
   ]
  },
  {
   "cell_type": "code",
   "execution_count": 3,
   "metadata": {},
   "outputs": [
    {
     "name": "stdout",
     "output_type": "stream",
     "text": [
      "(256, 2)\n"
     ]
    }
   ],
   "source": [
    "DATA_DIR = '../Data/'\n",
    "channels_coord = DATA_DIR + 'channelcoords.mat'\n",
    "locs_3D = sio.loadmat(channels_coord)['locstemp']\n",
    "locs_2D = map_to_2d(locs_3D)\n",
    "print(locs_2D.shape)"
   ]
  },
  {
   "cell_type": "code",
   "execution_count": 4,
   "metadata": {},
   "outputs": [],
   "source": [
    "# Load raw data \n",
    "filename = DATA_DIR +'10sec_raw_data_zip'\n",
    "loaded = np.load(filename+'.npz')\n",
    "rawdata = loaded['data']\n",
    "label = loaded['labels']"
   ]
  },
  {
   "cell_type": "code",
   "execution_count": 5,
   "metadata": {},
   "outputs": [],
   "source": [
    "rawdata_normalized = []\n",
    "scaler = MinMaxScaler(feature_range=(-1,1))\n",
    "for trial in rawdata:\n",
    "    #centerized\n",
    "    n_trial =  centerize_reference(trial)\n",
    "    #min-max scale\n",
    "    #scaler.fit(n_trial)\n",
    "    #mm_trial = scaler.transform(n_trial)\n",
    "    rawdata_normalized.append(n_trial)\n",
    "\n",
    "rawdata = np.array(rawdata_normalized)    "
   ]
  },
  {
   "cell_type": "code",
   "execution_count": null,
   "metadata": {},
   "outputs": [],
   "source": [
    "r_col0 = rawdata_normalized[1][:,5]\n",
    "min_r = np.min(r_col0)\n",
    "max_r = np.max(r_col0)"
   ]
  },
  {
   "cell_type": "code",
   "execution_count": null,
   "metadata": {},
   "outputs": [],
   "source": [
    "rawdata.shape"
   ]
  },
  {
   "cell_type": "code",
   "execution_count": 6,
   "metadata": {},
   "outputs": [],
   "source": [
    "# Load fft data \n",
    "filename = DATA_DIR + 'fft_data_zip'\n",
    "loaded = np.load(filename+'.npz')\n",
    "fft_data = loaded['data']\n",
    "fft_label = loaded['labels']"
   ]
  },
  {
   "cell_type": "code",
   "execution_count": 7,
   "metadata": {},
   "outputs": [
    {
     "name": "stdout",
     "output_type": "stream",
     "text": [
      "(3, 5000, 256) (3,)\n",
      "(33, 60, 512) (33,)\n"
     ]
    }
   ],
   "source": [
    "print(rawdata.shape, label.shape)\n",
    "print(fft_data.shape, fft_label.shape)"
   ]
  },
  {
   "cell_type": "code",
   "execution_count": 8,
   "metadata": {},
   "outputs": [],
   "source": [
    "def lab(y, sample_size):\n",
    "    return [y]*sample_size"
   ]
  },
  {
   "cell_type": "code",
   "execution_count": 9,
   "metadata": {},
   "outputs": [],
   "source": [
    "x_tr, x_te, y_tr, y_te = tt_split(rawdata, label, ratio=0.8)"
   ]
  },
  {
   "cell_type": "code",
   "execution_count": null,
   "metadata": {},
   "outputs": [],
   "source": [
    "# Balanced the data set \n",
    "y_train_list = []\n",
    "x_train_list = []\n",
    "for ind, value in enumerate(x_tr):\n",
    "    if y_tr[ind] == 2:\n",
    "        selected = value[np.random.randint(value.shape[0], size=int(value.shape[0] * 0.33)), :]\n",
    "        x_train_list.append(selected)\n",
    "        y_train_list.append(lab(2, selected.shape[0]))\n",
    "\n",
    "    elif y_tr[ind] == 1:\n",
    "        selected = value[np.random.randint(value.shape[0], size=int(value.shape[0] * 0.42)), :]\n",
    "        x_train_list.append(selected)\n",
    "        y_train_list.append(lab(1, selected.shape[0]))\n",
    "    else :\n",
    "        x_train_list.append(value)\n",
    "        y_train_list.append(lab(0, value.shape[0]))\n"
   ]
  },
  {
   "cell_type": "code",
   "execution_count": null,
   "metadata": {},
   "outputs": [],
   "source": [
    "x_train_list[1].shape"
   ]
  },
  {
   "cell_type": "code",
   "execution_count": null,
   "metadata": {},
   "outputs": [],
   "source": [
    "X_train = np.concatenate(x_train_list, axis = 0)\n",
    "y_train = np.concatenate(y_train_list, axis = 0)"
   ]
  },
  {
   "cell_type": "code",
   "execution_count": null,
   "metadata": {},
   "outputs": [],
   "source": [
    "print(X_train.shape, y_train.shape)"
   ]
  },
  {
   "cell_type": "code",
   "execution_count": null,
   "metadata": {},
   "outputs": [],
   "source": [
    "X_test = np.concatenate(x_te, axis=0)\n",
    "y_test = np.concatenate( [lab(y, x_te[0].shape[0]) for y in y_te]  )"
   ]
  },
  {
   "cell_type": "code",
   "execution_count": null,
   "metadata": {},
   "outputs": [],
   "source": [
    "print(X_test.shape, y_test.shape)"
   ]
  },
  {
   "cell_type": "code",
   "execution_count": null,
   "metadata": {},
   "outputs": [],
   "source": [
    "x_tr.shape"
   ]
  },
  {
   "cell_type": "code",
   "execution_count": null,
   "metadata": {},
   "outputs": [],
   "source": [
    "# encode labels as one-hot vectors\n",
    "y_train = np_utils.to_categorical(y_train)\n",
    "y_test = np_utils.to_categorical(y_test)"
   ]
  },
  {
   "cell_type": "code",
   "execution_count": null,
   "metadata": {},
   "outputs": [],
   "source": [
    "print(X_train.shape, y_train.shape)\n",
    "print(X_test.shape, y_test.shape)"
   ]
  },
  {
   "cell_type": "markdown",
   "metadata": {},
   "source": [
    "## Video create single channel"
   ]
  },
  {
   "cell_type": "code",
   "execution_count": 10,
   "metadata": {},
   "outputs": [],
   "source": [
    "x_tr, x_te, y_tr, y_te = tt_split(rawdata, label, ratio=0.8)"
   ]
  },
  {
   "cell_type": "code",
   "execution_count": 12,
   "metadata": {},
   "outputs": [
    {
     "name": "stdout",
     "output_type": "stream",
     "text": [
      "(2, 5000, 256) (2,)\n",
      "(1, 5000, 256) (1,)\n"
     ]
    }
   ],
   "source": [
    "print(x_tr.shape, y_tr.shape)\n",
    "print(x_te.shape, y_te.shape)"
   ]
  },
  {
   "cell_type": "code",
   "execution_count": 16,
   "metadata": {},
   "outputs": [],
   "source": [
    "x_tr_video = []\n",
    "VIDEO_SIZE = 100\n",
    "SLIDE = 10\n",
    "\n",
    "y_train_list = []\n",
    "x_train_list = []\n",
    "\n",
    "for ind, trial in enumerate(x_tr):\n",
    "    num_video = (trial.shape[0]-VIDEO_SIZE-SLIDE)//VIDEO_SIZE\n",
    "    start = 0\n",
    "    for i in range(num_video):\n",
    "        a_video = trial[start: start+VIDEO_SIZE, :]\n",
    "        x_tr_video.append(a_video)\n",
    "        start += SLIDE\n",
    "    \n",
    "    value = np.array(x_tr_video)\n",
    "    \n",
    "    #Balance the dataset\n",
    "    if y_tr[ind] == 2:\n",
    "        selected = value[np.random.randint(value.shape[0], size=int(value.shape[0] * 0.35)), :]\n",
    "        x_train_list.append(selected)\n",
    "        y_train_list.append(lab(2, selected.shape[0]))\n",
    "\n",
    "    elif y_tr[ind] == 1:\n",
    "        selected = value[np.random.randint(value.shape[0], size=int(value.shape[0] * 0.45)), :]\n",
    "        x_train_list.append(selected)\n",
    "        y_train_list.append(lab(1, selected.shape[0]))\n",
    "    else :\n",
    "        x_train_list.append(value)\n",
    "        y_train_list.append(lab(0, value.shape[0]))\n",
    "        \n",
    "        "
   ]
  },
  {
   "cell_type": "code",
   "execution_count": 17,
   "metadata": {},
   "outputs": [],
   "source": [
    "X_train = np.concatenate(x_train_list, axis = 0)\n",
    "y_train = np.concatenate(y_train_list, axis = 0)"
   ]
  },
  {
   "cell_type": "code",
   "execution_count": 18,
   "metadata": {},
   "outputs": [
    {
     "name": "stdout",
     "output_type": "stream",
     "text": [
      "(79, 100, 256) (79,)\n"
     ]
    }
   ],
   "source": [
    "print(X_train.shape, y_train.shape)"
   ]
  },
  {
   "cell_type": "code",
   "execution_count": 23,
   "metadata": {},
   "outputs": [],
   "source": [
    "from dreamUtils import *"
   ]
  },
  {
   "cell_type": "code",
   "execution_count": 26,
   "metadata": {},
   "outputs": [
    {
     "name": "stdout",
     "output_type": "stream",
     "text": [
      "Interpolated 100/100\n",
      "Interpolated 100/100\n",
      "Interpolated 100/100\n",
      "Interpolated 100/100\n",
      "Interpolated 100/100\n",
      "Interpolated 100/100\n",
      "Interpolated 100/100\n",
      "Interpolated 100/100\n",
      "Interpolated 100/100\n",
      "Interpolated 100/100\n",
      "Interpolated 100/100\n",
      "Interpolated 100/100\n",
      "Interpolated 100/100\n",
      "Interpolated 100/100\n",
      "Interpolated 100/100\n",
      "Interpolated 100/100\n",
      "Interpolated 100/100\n",
      "Interpolated 100/100\n",
      "Interpolated 100/100\n",
      "Interpolated 100/100\n",
      "Interpolated 100/100\n",
      "Interpolated 100/100\n",
      "Interpolated 100/100\n",
      "Interpolated 100/100\n",
      "Interpolated 100/100\n",
      "Interpolated 100/100\n",
      "Interpolated 100/100\n",
      "Interpolated 100/100\n",
      "Interpolated 100/100\n",
      "Interpolated 100/100\n",
      "Interpolated 100/100\n",
      "Interpolated 100/100\n",
      "Interpolated 100/100\n",
      "Interpolated 100/100\n",
      "Interpolated 100/100\n",
      "Interpolated 100/100\n",
      "Interpolated 100/100\n",
      "Interpolated 100/100\n",
      "Interpolated 100/100\n",
      "Interpolated 100/100\n",
      "Interpolated 100/100\n",
      "Interpolated 100/100\n",
      "Interpolated 100/100\n",
      "Interpolated 100/100\n",
      "Interpolated 100/100\n",
      "Interpolated 100/100\n",
      "Interpolated 100/100\n",
      "Interpolated 100/100\n",
      "Interpolated 100/100\n",
      "Interpolated 100/100\n",
      "Interpolated 100/100\n",
      "Interpolated 100/100\n",
      "Interpolated 100/100\n",
      "Interpolated 100/100\n",
      "Interpolated 100/100\n",
      "Interpolated 100/100\n",
      "Interpolated 100/100\n",
      "Interpolated 100/100\n",
      "Interpolated 100/100\n",
      "Interpolated 100/100\n",
      "Interpolated 100/100\n",
      "Interpolated 100/100\n",
      "Interpolated 100/100\n",
      "Interpolated 100/100\n",
      "Interpolated 100/100\n",
      "Interpolated 100/100\n",
      "Interpolated 100/100\n",
      "Interpolated 100/100\n",
      "Interpolated 100/100\n",
      "Interpolated 100/100\n",
      "Interpolated 100/100\n",
      "Interpolated 100/100\n",
      "Interpolated 100/100\n",
      "Interpolated 100/100\n",
      "Interpolated 100/100\n",
      "Interpolated 100/100\n",
      "Interpolated 100/100\n",
      "Interpolated 100/100\n",
      "Interpolated 100/100\n"
     ]
    }
   ],
   "source": [
    "video_images = [gen_images(locs_2D, x, 32) for x in X_train]"
   ]
  },
  {
   "cell_type": "code",
   "execution_count": 27,
   "metadata": {},
   "outputs": [
    {
     "data": {
      "text/plain": [
       "(79, 100, 1, 32, 32)"
      ]
     },
     "execution_count": 27,
     "metadata": {},
     "output_type": "execute_result"
    }
   ],
   "source": [
    "X_train_video_images = np.array(video_images)\n",
    "anan.shape"
   ]
  },
  {
   "cell_type": "code",
   "execution_count": 19,
   "metadata": {},
   "outputs": [],
   "source": [
    "x_te_video = []\n",
    "VIDEO_SIZE = 100\n",
    "SLIDE = 10\n",
    "\n",
    "x_test_list = []\n",
    "y_test_list = []\n",
    "\n",
    "for ind, trial in enumerate(x_te):\n",
    "    num_video = (trial.shape[0]-VIDEO_SIZE-SLIDE)//VIDEO_SIZE\n",
    "    start = 0\n",
    "    for i in range(num_video):\n",
    "        a_video = trial[start: start+VIDEO_SIZE, :]\n",
    "        x_tr_video.append(a_video)\n",
    "        start += SLIDE\n",
    "    \n",
    "    value = np.array(x_tr_video)\n",
    "    x_test_list.append(value)\n",
    "    y_test_list.append(lab(0, value.shape[0]))\n",
    "        "
   ]
  },
  {
   "cell_type": "code",
   "execution_count": 20,
   "metadata": {},
   "outputs": [],
   "source": [
    "X_test = np.concatenate(x_test_list, axis=0)\n",
    "y_test = np.concatenate(y_test_list, axis=0)  "
   ]
  },
  {
   "cell_type": "code",
   "execution_count": 21,
   "metadata": {},
   "outputs": [
    {
     "name": "stdout",
     "output_type": "stream",
     "text": [
      "(144, 100, 256) (144,)\n"
     ]
    }
   ],
   "source": [
    "print(X_test.shape, y_test.shape)"
   ]
  },
  {
   "cell_type": "code",
   "execution_count": null,
   "metadata": {},
   "outputs": [],
   "source": []
  }
 ],
 "metadata": {
  "kernelspec": {
   "display_name": "Python 3",
   "language": "python",
   "name": "python3"
  },
  "language_info": {
   "codemirror_mode": {
    "name": "ipython",
    "version": 3
   },
   "file_extension": ".py",
   "mimetype": "text/x-python",
   "name": "python",
   "nbconvert_exporter": "python",
   "pygments_lexer": "ipython3",
   "version": "3.6.5"
  }
 },
 "nbformat": 4,
 "nbformat_minor": 2
}
