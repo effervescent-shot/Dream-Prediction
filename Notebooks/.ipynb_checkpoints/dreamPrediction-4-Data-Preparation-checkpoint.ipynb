{
 "cells": [
  {
   "cell_type": "code",
   "execution_count": 1,
   "metadata": {},
   "outputs": [],
   "source": [
    "%matplotlib inline\n",
    "\n",
    "import warnings\n",
    "warnings.filterwarnings(\"ignore\")\n",
    "\n",
    "import h5py\n",
    "import os, re\n",
    "import numpy as np\n",
    "import pandas as pd\n",
    "import matplotlib.pyplot as plt\n",
    "import scipy.io as sio\n",
    "\n",
    "from dreamUtils import *"
   ]
  },
  {
   "cell_type": "code",
   "execution_count": 15,
   "metadata": {},
   "outputs": [],
   "source": [
    "# Read trial ids and labels from excel \n",
    "datalabels = pd.read_excel(open('../Data/Dream_reports_healthy_full.xlsx','rb'),\\\n",
    "    dtype={'Subject_id':str, 'Quest_number':str, 'Stage':int, 'CE':float, 'Certain':str, 'Segment excluded':int, 'Reason':str })\n",
    "\n",
    "\n",
    "#datalabels.dropna(subset=['CE'], inplace=True)\n",
    "#datalabels.Quest_number = datalabels.Quest_number.apply(lambda x: 'S0'+x if len(x)<2 else 'S'+x)"
   ]
  },
  {
   "cell_type": "code",
   "execution_count": 16,
   "metadata": {},
   "outputs": [],
   "source": [
    "datalabels.dropna(subset=['CE'], inplace=True)"
   ]
  },
  {
   "cell_type": "code",
   "execution_count": 17,
   "metadata": {},
   "outputs": [],
   "source": [
    "datalabels = datalabels[datalabels['Segment excluded'] == 0]"
   ]
  },
  {
   "cell_type": "code",
   "execution_count": 19,
   "metadata": {},
   "outputs": [
    {
     "data": {
      "text/html": [
       "<div>\n",
       "<style scoped>\n",
       "    .dataframe tbody tr th:only-of-type {\n",
       "        vertical-align: middle;\n",
       "    }\n",
       "\n",
       "    .dataframe tbody tr th {\n",
       "        vertical-align: top;\n",
       "    }\n",
       "\n",
       "    .dataframe thead th {\n",
       "        text-align: right;\n",
       "    }\n",
       "</style>\n",
       "<table border=\"1\" class=\"dataframe\">\n",
       "  <thead>\n",
       "    <tr style=\"text-align: right;\">\n",
       "      <th></th>\n",
       "      <th>Quest_id</th>\n",
       "      <th>Quest_number</th>\n",
       "      <th>Stage</th>\n",
       "      <th>CE</th>\n",
       "      <th>Certain</th>\n",
       "      <th>Segment excluded</th>\n",
       "      <th>Reason</th>\n",
       "    </tr>\n",
       "  </thead>\n",
       "  <tbody>\n",
       "    <tr>\n",
       "      <th>0</th>\n",
       "      <td>H009_E1</td>\n",
       "      <td>1</td>\n",
       "      <td>3</td>\n",
       "      <td>1.0</td>\n",
       "      <td>1</td>\n",
       "      <td>0</td>\n",
       "      <td>nan</td>\n",
       "    </tr>\n",
       "    <tr>\n",
       "      <th>1</th>\n",
       "      <td>H009_E1</td>\n",
       "      <td>2</td>\n",
       "      <td>3</td>\n",
       "      <td>1.0</td>\n",
       "      <td>1</td>\n",
       "      <td>0</td>\n",
       "      <td>nan</td>\n",
       "    </tr>\n",
       "    <tr>\n",
       "      <th>2</th>\n",
       "      <td>H009_E1</td>\n",
       "      <td>3</td>\n",
       "      <td>3</td>\n",
       "      <td>1.0</td>\n",
       "      <td>1</td>\n",
       "      <td>0</td>\n",
       "      <td>nan</td>\n",
       "    </tr>\n",
       "    <tr>\n",
       "      <th>3</th>\n",
       "      <td>H009_E1</td>\n",
       "      <td>4</td>\n",
       "      <td>4</td>\n",
       "      <td>2.0</td>\n",
       "      <td>nan</td>\n",
       "      <td>0</td>\n",
       "      <td>nan</td>\n",
       "    </tr>\n",
       "    <tr>\n",
       "      <th>4</th>\n",
       "      <td>H009_E1</td>\n",
       "      <td>5</td>\n",
       "      <td>2</td>\n",
       "      <td>1.0</td>\n",
       "      <td>1</td>\n",
       "      <td>0</td>\n",
       "      <td>nan</td>\n",
       "    </tr>\n",
       "    <tr>\n",
       "      <th>5</th>\n",
       "      <td>H009_E1</td>\n",
       "      <td>6</td>\n",
       "      <td>2</td>\n",
       "      <td>1.0</td>\n",
       "      <td>0</td>\n",
       "      <td>0</td>\n",
       "      <td>nan</td>\n",
       "    </tr>\n",
       "    <tr>\n",
       "      <th>6</th>\n",
       "      <td>H009_E1</td>\n",
       "      <td>7</td>\n",
       "      <td>2</td>\n",
       "      <td>1.0</td>\n",
       "      <td>1</td>\n",
       "      <td>0</td>\n",
       "      <td>nan</td>\n",
       "    </tr>\n",
       "    <tr>\n",
       "      <th>7</th>\n",
       "      <td>H009_E1</td>\n",
       "      <td>8</td>\n",
       "      <td>4</td>\n",
       "      <td>2.0</td>\n",
       "      <td>nan</td>\n",
       "      <td>0</td>\n",
       "      <td>nan</td>\n",
       "    </tr>\n",
       "    <tr>\n",
       "      <th>8</th>\n",
       "      <td>H009_E1</td>\n",
       "      <td>9</td>\n",
       "      <td>2</td>\n",
       "      <td>2.0</td>\n",
       "      <td>nan</td>\n",
       "      <td>0</td>\n",
       "      <td>nan</td>\n",
       "    </tr>\n",
       "    <tr>\n",
       "      <th>11</th>\n",
       "      <td>H009_E1</td>\n",
       "      <td>12</td>\n",
       "      <td>4</td>\n",
       "      <td>2.0</td>\n",
       "      <td>nan</td>\n",
       "      <td>0</td>\n",
       "      <td>nan</td>\n",
       "    </tr>\n",
       "    <tr>\n",
       "      <th>12</th>\n",
       "      <td>H009_E2</td>\n",
       "      <td>1</td>\n",
       "      <td>3</td>\n",
       "      <td>1.0</td>\n",
       "      <td>0</td>\n",
       "      <td>0</td>\n",
       "      <td>nan</td>\n",
       "    </tr>\n",
       "    <tr>\n",
       "      <th>18</th>\n",
       "      <td>H009_E2</td>\n",
       "      <td>7</td>\n",
       "      <td>2</td>\n",
       "      <td>1.0</td>\n",
       "      <td>1</td>\n",
       "      <td>0</td>\n",
       "      <td>nan</td>\n",
       "    </tr>\n",
       "    <tr>\n",
       "      <th>19</th>\n",
       "      <td>H009_E2</td>\n",
       "      <td>8</td>\n",
       "      <td>2</td>\n",
       "      <td>2.0</td>\n",
       "      <td>nan</td>\n",
       "      <td>0</td>\n",
       "      <td>nan</td>\n",
       "    </tr>\n",
       "    <tr>\n",
       "      <th>20</th>\n",
       "      <td>H009_E2</td>\n",
       "      <td>9</td>\n",
       "      <td>2</td>\n",
       "      <td>2.0</td>\n",
       "      <td>nan</td>\n",
       "      <td>0</td>\n",
       "      <td>nan</td>\n",
       "    </tr>\n",
       "    <tr>\n",
       "      <th>21</th>\n",
       "      <td>H018_IN_E1</td>\n",
       "      <td>1</td>\n",
       "      <td>3</td>\n",
       "      <td>1.0</td>\n",
       "      <td>1</td>\n",
       "      <td>0</td>\n",
       "      <td>nan</td>\n",
       "    </tr>\n",
       "    <tr>\n",
       "      <th>22</th>\n",
       "      <td>H018_IN_E1</td>\n",
       "      <td>2</td>\n",
       "      <td>3</td>\n",
       "      <td>1.0</td>\n",
       "      <td>1</td>\n",
       "      <td>0</td>\n",
       "      <td>nan</td>\n",
       "    </tr>\n",
       "    <tr>\n",
       "      <th>23</th>\n",
       "      <td>H018_IN_E1</td>\n",
       "      <td>3</td>\n",
       "      <td>2</td>\n",
       "      <td>2.0</td>\n",
       "      <td>nan</td>\n",
       "      <td>0</td>\n",
       "      <td>nan</td>\n",
       "    </tr>\n",
       "    <tr>\n",
       "      <th>24</th>\n",
       "      <td>H018_IN_E1</td>\n",
       "      <td>4</td>\n",
       "      <td>2</td>\n",
       "      <td>2.0</td>\n",
       "      <td>nan</td>\n",
       "      <td>0</td>\n",
       "      <td>Transition N2 to REM</td>\n",
       "    </tr>\n",
       "    <tr>\n",
       "      <th>25</th>\n",
       "      <td>H018_IN_E1</td>\n",
       "      <td>5</td>\n",
       "      <td>4</td>\n",
       "      <td>2.0</td>\n",
       "      <td>nan</td>\n",
       "      <td>0</td>\n",
       "      <td>nan</td>\n",
       "    </tr>\n",
       "    <tr>\n",
       "      <th>26</th>\n",
       "      <td>H018_IN_E1</td>\n",
       "      <td>6</td>\n",
       "      <td>2</td>\n",
       "      <td>1.0</td>\n",
       "      <td>0</td>\n",
       "      <td>0</td>\n",
       "      <td>nan</td>\n",
       "    </tr>\n",
       "    <tr>\n",
       "      <th>27</th>\n",
       "      <td>H018_IN_E1</td>\n",
       "      <td>7</td>\n",
       "      <td>2</td>\n",
       "      <td>1.0</td>\n",
       "      <td>1</td>\n",
       "      <td>0</td>\n",
       "      <td>nan</td>\n",
       "    </tr>\n",
       "    <tr>\n",
       "      <th>28</th>\n",
       "      <td>H018_IN_E1</td>\n",
       "      <td>8</td>\n",
       "      <td>2</td>\n",
       "      <td>1.0</td>\n",
       "      <td>1</td>\n",
       "      <td>0</td>\n",
       "      <td>nan</td>\n",
       "    </tr>\n",
       "    <tr>\n",
       "      <th>29</th>\n",
       "      <td>H018_IN_E1</td>\n",
       "      <td>9</td>\n",
       "      <td>4</td>\n",
       "      <td>2.0</td>\n",
       "      <td>nan</td>\n",
       "      <td>0</td>\n",
       "      <td>nan</td>\n",
       "    </tr>\n",
       "    <tr>\n",
       "      <th>30</th>\n",
       "      <td>H018_IN_E1</td>\n",
       "      <td>10</td>\n",
       "      <td>2</td>\n",
       "      <td>2.0</td>\n",
       "      <td>nan</td>\n",
       "      <td>0</td>\n",
       "      <td>nan</td>\n",
       "    </tr>\n",
       "    <tr>\n",
       "      <th>31</th>\n",
       "      <td>H018_IN_E1</td>\n",
       "      <td>11</td>\n",
       "      <td>2</td>\n",
       "      <td>2.0</td>\n",
       "      <td>nan</td>\n",
       "      <td>0</td>\n",
       "      <td>nan</td>\n",
       "    </tr>\n",
       "    <tr>\n",
       "      <th>32</th>\n",
       "      <td>H018_IN_E1</td>\n",
       "      <td>12</td>\n",
       "      <td>4</td>\n",
       "      <td>2.0</td>\n",
       "      <td>nan</td>\n",
       "      <td>0</td>\n",
       "      <td>nan</td>\n",
       "    </tr>\n",
       "    <tr>\n",
       "      <th>33</th>\n",
       "      <td>H018_IN_E1</td>\n",
       "      <td>13</td>\n",
       "      <td>2</td>\n",
       "      <td>2.0</td>\n",
       "      <td>nan</td>\n",
       "      <td>0</td>\n",
       "      <td>25s Arousal 4min before STM</td>\n",
       "    </tr>\n",
       "    <tr>\n",
       "      <th>34</th>\n",
       "      <td>H018_IN_E2</td>\n",
       "      <td>1</td>\n",
       "      <td>2</td>\n",
       "      <td>0.0</td>\n",
       "      <td>nan</td>\n",
       "      <td>0</td>\n",
       "      <td>nan</td>\n",
       "    </tr>\n",
       "    <tr>\n",
       "      <th>35</th>\n",
       "      <td>H018_IN_E2</td>\n",
       "      <td>2</td>\n",
       "      <td>3</td>\n",
       "      <td>2.0</td>\n",
       "      <td>nan</td>\n",
       "      <td>0</td>\n",
       "      <td>nan</td>\n",
       "    </tr>\n",
       "    <tr>\n",
       "      <th>36</th>\n",
       "      <td>H018_IN_E2</td>\n",
       "      <td>3</td>\n",
       "      <td>2</td>\n",
       "      <td>1.0</td>\n",
       "      <td>1</td>\n",
       "      <td>0</td>\n",
       "      <td>nan</td>\n",
       "    </tr>\n",
       "    <tr>\n",
       "      <th>...</th>\n",
       "      <td>...</td>\n",
       "      <td>...</td>\n",
       "      <td>...</td>\n",
       "      <td>...</td>\n",
       "      <td>...</td>\n",
       "      <td>...</td>\n",
       "      <td>...</td>\n",
       "    </tr>\n",
       "    <tr>\n",
       "      <th>361</th>\n",
       "      <td>H060_IN_E1</td>\n",
       "      <td>3</td>\n",
       "      <td>3</td>\n",
       "      <td>1.0</td>\n",
       "      <td>1</td>\n",
       "      <td>0</td>\n",
       "      <td>nan</td>\n",
       "    </tr>\n",
       "    <tr>\n",
       "      <th>362</th>\n",
       "      <td>H060_IN_E1</td>\n",
       "      <td>4</td>\n",
       "      <td>3</td>\n",
       "      <td>2.0</td>\n",
       "      <td>nan</td>\n",
       "      <td>0</td>\n",
       "      <td>nan</td>\n",
       "    </tr>\n",
       "    <tr>\n",
       "      <th>363</th>\n",
       "      <td>H060_IN_E1</td>\n",
       "      <td>5</td>\n",
       "      <td>2</td>\n",
       "      <td>2.0</td>\n",
       "      <td>nan</td>\n",
       "      <td>0</td>\n",
       "      <td>nan</td>\n",
       "    </tr>\n",
       "    <tr>\n",
       "      <th>364</th>\n",
       "      <td>H060_IN_E1</td>\n",
       "      <td>6</td>\n",
       "      <td>2</td>\n",
       "      <td>2.0</td>\n",
       "      <td>nan</td>\n",
       "      <td>0</td>\n",
       "      <td>nan</td>\n",
       "    </tr>\n",
       "    <tr>\n",
       "      <th>365</th>\n",
       "      <td>H060_IN_E1</td>\n",
       "      <td>7</td>\n",
       "      <td>2</td>\n",
       "      <td>1.0</td>\n",
       "      <td>1</td>\n",
       "      <td>0</td>\n",
       "      <td>nan</td>\n",
       "    </tr>\n",
       "    <tr>\n",
       "      <th>366</th>\n",
       "      <td>H060_IN_E1</td>\n",
       "      <td>8</td>\n",
       "      <td>4</td>\n",
       "      <td>2.0</td>\n",
       "      <td>nan</td>\n",
       "      <td>0</td>\n",
       "      <td>nan</td>\n",
       "    </tr>\n",
       "    <tr>\n",
       "      <th>367</th>\n",
       "      <td>H060_IN_E1</td>\n",
       "      <td>9</td>\n",
       "      <td>2</td>\n",
       "      <td>2.0</td>\n",
       "      <td>nan</td>\n",
       "      <td>0</td>\n",
       "      <td>nan</td>\n",
       "    </tr>\n",
       "    <tr>\n",
       "      <th>368</th>\n",
       "      <td>H060_IN_E1</td>\n",
       "      <td>10</td>\n",
       "      <td>2</td>\n",
       "      <td>2.0</td>\n",
       "      <td>nan</td>\n",
       "      <td>0</td>\n",
       "      <td>nan</td>\n",
       "    </tr>\n",
       "    <tr>\n",
       "      <th>369</th>\n",
       "      <td>H060_IN_E1</td>\n",
       "      <td>11</td>\n",
       "      <td>3</td>\n",
       "      <td>1.0</td>\n",
       "      <td>0</td>\n",
       "      <td>0</td>\n",
       "      <td>nan</td>\n",
       "    </tr>\n",
       "    <tr>\n",
       "      <th>370</th>\n",
       "      <td>H060_IN_E1</td>\n",
       "      <td>12</td>\n",
       "      <td>4</td>\n",
       "      <td>2.0</td>\n",
       "      <td>nan</td>\n",
       "      <td>0</td>\n",
       "      <td>nan</td>\n",
       "    </tr>\n",
       "    <tr>\n",
       "      <th>371</th>\n",
       "      <td>H060_IN_E1</td>\n",
       "      <td>13</td>\n",
       "      <td>4</td>\n",
       "      <td>1.0</td>\n",
       "      <td>1</td>\n",
       "      <td>0</td>\n",
       "      <td>nan</td>\n",
       "    </tr>\n",
       "    <tr>\n",
       "      <th>372</th>\n",
       "      <td>H060_IN_E1</td>\n",
       "      <td>14</td>\n",
       "      <td>4</td>\n",
       "      <td>2.0</td>\n",
       "      <td>nan</td>\n",
       "      <td>0</td>\n",
       "      <td>nan</td>\n",
       "    </tr>\n",
       "    <tr>\n",
       "      <th>373</th>\n",
       "      <td>H060_IN_E1</td>\n",
       "      <td>15</td>\n",
       "      <td>2</td>\n",
       "      <td>1.0</td>\n",
       "      <td>1</td>\n",
       "      <td>0</td>\n",
       "      <td>nan</td>\n",
       "    </tr>\n",
       "    <tr>\n",
       "      <th>374</th>\n",
       "      <td>H060_IN_E1</td>\n",
       "      <td>16</td>\n",
       "      <td>3</td>\n",
       "      <td>2.0</td>\n",
       "      <td>nan</td>\n",
       "      <td>0</td>\n",
       "      <td>nan</td>\n",
       "    </tr>\n",
       "    <tr>\n",
       "      <th>375</th>\n",
       "      <td>H060_IN_E1</td>\n",
       "      <td>17</td>\n",
       "      <td>3</td>\n",
       "      <td>1.0</td>\n",
       "      <td>0</td>\n",
       "      <td>0</td>\n",
       "      <td>nan</td>\n",
       "    </tr>\n",
       "    <tr>\n",
       "      <th>376</th>\n",
       "      <td>H060_IN_E1</td>\n",
       "      <td>18</td>\n",
       "      <td>4</td>\n",
       "      <td>2.0</td>\n",
       "      <td>nan</td>\n",
       "      <td>0</td>\n",
       "      <td>nan</td>\n",
       "    </tr>\n",
       "    <tr>\n",
       "      <th>377</th>\n",
       "      <td>H060_IN_E2</td>\n",
       "      <td>1</td>\n",
       "      <td>3</td>\n",
       "      <td>2.0</td>\n",
       "      <td>nan</td>\n",
       "      <td>0</td>\n",
       "      <td>nan</td>\n",
       "    </tr>\n",
       "    <tr>\n",
       "      <th>378</th>\n",
       "      <td>H060_IN_E2</td>\n",
       "      <td>2</td>\n",
       "      <td>3</td>\n",
       "      <td>2.0</td>\n",
       "      <td>nan</td>\n",
       "      <td>0</td>\n",
       "      <td>nan</td>\n",
       "    </tr>\n",
       "    <tr>\n",
       "      <th>379</th>\n",
       "      <td>H060_IN_E2</td>\n",
       "      <td>3</td>\n",
       "      <td>3</td>\n",
       "      <td>2.0</td>\n",
       "      <td>nan</td>\n",
       "      <td>0</td>\n",
       "      <td>nan</td>\n",
       "    </tr>\n",
       "    <tr>\n",
       "      <th>380</th>\n",
       "      <td>H060_IN_E2</td>\n",
       "      <td>4</td>\n",
       "      <td>2</td>\n",
       "      <td>2.0</td>\n",
       "      <td>nan</td>\n",
       "      <td>0</td>\n",
       "      <td>nan</td>\n",
       "    </tr>\n",
       "    <tr>\n",
       "      <th>381</th>\n",
       "      <td>H060_IN_E2</td>\n",
       "      <td>5</td>\n",
       "      <td>4</td>\n",
       "      <td>1.0</td>\n",
       "      <td>1</td>\n",
       "      <td>0</td>\n",
       "      <td>nan</td>\n",
       "    </tr>\n",
       "    <tr>\n",
       "      <th>382</th>\n",
       "      <td>H060_IN_E2</td>\n",
       "      <td>6</td>\n",
       "      <td>2</td>\n",
       "      <td>2.0</td>\n",
       "      <td>nan</td>\n",
       "      <td>0</td>\n",
       "      <td>nan</td>\n",
       "    </tr>\n",
       "    <tr>\n",
       "      <th>383</th>\n",
       "      <td>H060_IN_E2</td>\n",
       "      <td>7</td>\n",
       "      <td>2</td>\n",
       "      <td>1.0</td>\n",
       "      <td>1</td>\n",
       "      <td>0</td>\n",
       "      <td>nan</td>\n",
       "    </tr>\n",
       "    <tr>\n",
       "      <th>384</th>\n",
       "      <td>H060_IN_E2</td>\n",
       "      <td>8</td>\n",
       "      <td>1</td>\n",
       "      <td>1.0</td>\n",
       "      <td>nan</td>\n",
       "      <td>0</td>\n",
       "      <td>nan</td>\n",
       "    </tr>\n",
       "    <tr>\n",
       "      <th>385</th>\n",
       "      <td>H060_IN_E2</td>\n",
       "      <td>9</td>\n",
       "      <td>4</td>\n",
       "      <td>2.0</td>\n",
       "      <td>nan</td>\n",
       "      <td>0</td>\n",
       "      <td>nan</td>\n",
       "    </tr>\n",
       "    <tr>\n",
       "      <th>386</th>\n",
       "      <td>H060_IN_E2</td>\n",
       "      <td>10</td>\n",
       "      <td>2</td>\n",
       "      <td>2.0</td>\n",
       "      <td>nan</td>\n",
       "      <td>0</td>\n",
       "      <td>nan</td>\n",
       "    </tr>\n",
       "    <tr>\n",
       "      <th>387</th>\n",
       "      <td>H060_IN_E2</td>\n",
       "      <td>11</td>\n",
       "      <td>3</td>\n",
       "      <td>1.0</td>\n",
       "      <td>1</td>\n",
       "      <td>0</td>\n",
       "      <td>nan</td>\n",
       "    </tr>\n",
       "    <tr>\n",
       "      <th>388</th>\n",
       "      <td>H060_IN_E2</td>\n",
       "      <td>12</td>\n",
       "      <td>3</td>\n",
       "      <td>2.0</td>\n",
       "      <td>nan</td>\n",
       "      <td>0</td>\n",
       "      <td>nan</td>\n",
       "    </tr>\n",
       "    <tr>\n",
       "      <th>389</th>\n",
       "      <td>H060_IN_E2</td>\n",
       "      <td>13</td>\n",
       "      <td>4</td>\n",
       "      <td>2.0</td>\n",
       "      <td>nan</td>\n",
       "      <td>0</td>\n",
       "      <td>nan</td>\n",
       "    </tr>\n",
       "    <tr>\n",
       "      <th>390</th>\n",
       "      <td>H060_IN_E2</td>\n",
       "      <td>14</td>\n",
       "      <td>4</td>\n",
       "      <td>1.0</td>\n",
       "      <td>1</td>\n",
       "      <td>0</td>\n",
       "      <td>nan</td>\n",
       "    </tr>\n",
       "  </tbody>\n",
       "</table>\n",
       "<p>372 rows × 7 columns</p>\n",
       "</div>"
      ],
      "text/plain": [
       "       Quest_id Quest_number  Stage   CE Certain  Segment excluded  \\\n",
       "0       H009_E1            1      3  1.0       1                 0   \n",
       "1       H009_E1            2      3  1.0       1                 0   \n",
       "2       H009_E1            3      3  1.0       1                 0   \n",
       "3       H009_E1            4      4  2.0     nan                 0   \n",
       "4       H009_E1            5      2  1.0       1                 0   \n",
       "5       H009_E1            6      2  1.0       0                 0   \n",
       "6       H009_E1            7      2  1.0       1                 0   \n",
       "7       H009_E1            8      4  2.0     nan                 0   \n",
       "8       H009_E1            9      2  2.0     nan                 0   \n",
       "11      H009_E1           12      4  2.0     nan                 0   \n",
       "12      H009_E2            1      3  1.0       0                 0   \n",
       "18      H009_E2            7      2  1.0       1                 0   \n",
       "19      H009_E2            8      2  2.0     nan                 0   \n",
       "20      H009_E2            9      2  2.0     nan                 0   \n",
       "21   H018_IN_E1            1      3  1.0       1                 0   \n",
       "22   H018_IN_E1            2      3  1.0       1                 0   \n",
       "23   H018_IN_E1            3      2  2.0     nan                 0   \n",
       "24   H018_IN_E1            4      2  2.0     nan                 0   \n",
       "25   H018_IN_E1            5      4  2.0     nan                 0   \n",
       "26   H018_IN_E1            6      2  1.0       0                 0   \n",
       "27   H018_IN_E1            7      2  1.0       1                 0   \n",
       "28   H018_IN_E1            8      2  1.0       1                 0   \n",
       "29   H018_IN_E1            9      4  2.0     nan                 0   \n",
       "30   H018_IN_E1           10      2  2.0     nan                 0   \n",
       "31   H018_IN_E1           11      2  2.0     nan                 0   \n",
       "32   H018_IN_E1           12      4  2.0     nan                 0   \n",
       "33   H018_IN_E1           13      2  2.0     nan                 0   \n",
       "34   H018_IN_E2            1      2  0.0     nan                 0   \n",
       "35   H018_IN_E2            2      3  2.0     nan                 0   \n",
       "36   H018_IN_E2            3      2  1.0       1                 0   \n",
       "..          ...          ...    ...  ...     ...               ...   \n",
       "361  H060_IN_E1            3      3  1.0       1                 0   \n",
       "362  H060_IN_E1            4      3  2.0     nan                 0   \n",
       "363  H060_IN_E1            5      2  2.0     nan                 0   \n",
       "364  H060_IN_E1            6      2  2.0     nan                 0   \n",
       "365  H060_IN_E1            7      2  1.0       1                 0   \n",
       "366  H060_IN_E1            8      4  2.0     nan                 0   \n",
       "367  H060_IN_E1            9      2  2.0     nan                 0   \n",
       "368  H060_IN_E1           10      2  2.0     nan                 0   \n",
       "369  H060_IN_E1           11      3  1.0       0                 0   \n",
       "370  H060_IN_E1           12      4  2.0     nan                 0   \n",
       "371  H060_IN_E1           13      4  1.0       1                 0   \n",
       "372  H060_IN_E1           14      4  2.0     nan                 0   \n",
       "373  H060_IN_E1           15      2  1.0       1                 0   \n",
       "374  H060_IN_E1           16      3  2.0     nan                 0   \n",
       "375  H060_IN_E1           17      3  1.0       0                 0   \n",
       "376  H060_IN_E1           18      4  2.0     nan                 0   \n",
       "377  H060_IN_E2            1      3  2.0     nan                 0   \n",
       "378  H060_IN_E2            2      3  2.0     nan                 0   \n",
       "379  H060_IN_E2            3      3  2.0     nan                 0   \n",
       "380  H060_IN_E2            4      2  2.0     nan                 0   \n",
       "381  H060_IN_E2            5      4  1.0       1                 0   \n",
       "382  H060_IN_E2            6      2  2.0     nan                 0   \n",
       "383  H060_IN_E2            7      2  1.0       1                 0   \n",
       "384  H060_IN_E2            8      1  1.0     nan                 0   \n",
       "385  H060_IN_E2            9      4  2.0     nan                 0   \n",
       "386  H060_IN_E2           10      2  2.0     nan                 0   \n",
       "387  H060_IN_E2           11      3  1.0       1                 0   \n",
       "388  H060_IN_E2           12      3  2.0     nan                 0   \n",
       "389  H060_IN_E2           13      4  2.0     nan                 0   \n",
       "390  H060_IN_E2           14      4  1.0       1                 0   \n",
       "\n",
       "                          Reason  \n",
       "0                            nan  \n",
       "1                            nan  \n",
       "2                            nan  \n",
       "3                            nan  \n",
       "4                            nan  \n",
       "5                            nan  \n",
       "6                            nan  \n",
       "7                            nan  \n",
       "8                            nan  \n",
       "11                           nan  \n",
       "12                           nan  \n",
       "18                           nan  \n",
       "19                           nan  \n",
       "20                           nan  \n",
       "21                           nan  \n",
       "22                           nan  \n",
       "23                           nan  \n",
       "24          Transition N2 to REM  \n",
       "25                           nan  \n",
       "26                           nan  \n",
       "27                           nan  \n",
       "28                           nan  \n",
       "29                           nan  \n",
       "30                           nan  \n",
       "31                           nan  \n",
       "32                           nan  \n",
       "33   25s Arousal 4min before STM  \n",
       "34                           nan  \n",
       "35                           nan  \n",
       "36                           nan  \n",
       "..                           ...  \n",
       "361                          nan  \n",
       "362                          nan  \n",
       "363                          nan  \n",
       "364                          nan  \n",
       "365                          nan  \n",
       "366                          nan  \n",
       "367                          nan  \n",
       "368                          nan  \n",
       "369                          nan  \n",
       "370                          nan  \n",
       "371                          nan  \n",
       "372                          nan  \n",
       "373                          nan  \n",
       "374                          nan  \n",
       "375                          nan  \n",
       "376                          nan  \n",
       "377                          nan  \n",
       "378                          nan  \n",
       "379                          nan  \n",
       "380                          nan  \n",
       "381                          nan  \n",
       "382                          nan  \n",
       "383                          nan  \n",
       "384                          nan  \n",
       "385                          nan  \n",
       "386                          nan  \n",
       "387                          nan  \n",
       "388                          nan  \n",
       "389                          nan  \n",
       "390                          nan  \n",
       "\n",
       "[372 rows x 7 columns]"
      ]
     },
     "execution_count": 19,
     "metadata": {},
     "output_type": "execute_result"
    }
   ],
   "source": [
    "datalabels"
   ]
  },
  {
   "cell_type": "code",
   "execution_count": 21,
   "metadata": {},
   "outputs": [
    {
     "data": {
      "text/html": [
       "<div>\n",
       "<style scoped>\n",
       "    .dataframe tbody tr th:only-of-type {\n",
       "        vertical-align: middle;\n",
       "    }\n",
       "\n",
       "    .dataframe tbody tr th {\n",
       "        vertical-align: top;\n",
       "    }\n",
       "\n",
       "    .dataframe thead th {\n",
       "        text-align: right;\n",
       "    }\n",
       "</style>\n",
       "<table border=\"1\" class=\"dataframe\">\n",
       "  <thead>\n",
       "    <tr style=\"text-align: right;\">\n",
       "      <th></th>\n",
       "      <th>Quest_id</th>\n",
       "      <th>Quest_number</th>\n",
       "      <th>Stage</th>\n",
       "      <th>CE</th>\n",
       "      <th>Certain</th>\n",
       "      <th>Segment excluded</th>\n",
       "      <th>Reason</th>\n",
       "    </tr>\n",
       "  </thead>\n",
       "  <tbody>\n",
       "  </tbody>\n",
       "</table>\n",
       "</div>"
      ],
      "text/plain": [
       "Empty DataFrame\n",
       "Columns: [Quest_id, Quest_number, Stage, CE, Certain, Segment excluded, Reason]\n",
       "Index: []"
      ]
     },
     "execution_count": 21,
     "metadata": {},
     "output_type": "execute_result"
    }
   ],
   "source": [
    "datalabels[datalabels['Quest_id']=='H060_E2']"
   ]
  },
  {
   "cell_type": "markdown",
   "metadata": {},
   "source": [
    "## DATA PREPARATION "
   ]
  },
  {
   "cell_type": "code",
   "execution_count": 48,
   "metadata": {},
   "outputs": [],
   "source": [
    "DATA_DIR = './dream_data/'\n",
    "channels_coord ='channelcoords.mat'\n",
    "datadir = os.listdir(DATA_DIR)\n",
    "#datadir.remove('channelcoords.mat')\n",
    "#datadir.remove('Dream_reports_healthy.xlsx')"
   ]
  },
  {
   "cell_type": "code",
   "execution_count": 49,
   "metadata": {},
   "outputs": [
    {
     "data": {
      "text/plain": [
       "['H009', 'H055', 'H019', 'H018']"
      ]
     },
     "execution_count": 49,
     "metadata": {},
     "output_type": "execute_result"
    }
   ],
   "source": [
    "datadir"
   ]
  },
  {
   "cell_type": "code",
   "execution_count": 22,
   "metadata": {},
   "outputs": [],
   "source": [
    "# Read trial ids and labels from excel \n",
    "datalabels = pd.read_excel(open('../Data/Dream_reports_healthy.xlsx','rb'),\\\n",
    "                           dtype={'Subject_id':str, 'Quest_number':str, 'Stage':int, 'CE':float, 'Segment excluded':int,})\n",
    "datalabels.dropna(subset=['CE'], inplace=True)\n",
    "datalabels = datalabels[datalabels['Segment excluded'] == 0]\n",
    "datalabels.Quest_number = datalabels.Quest_number.apply(lambda x: 'S0'+x if len(x)<2 else 'S'+x)"
   ]
  },
  {
   "cell_type": "code",
   "execution_count": 23,
   "metadata": {},
   "outputs": [
    {
     "data": {
      "text/plain": [
       "False    372\n",
       "Name: CE, dtype: int64"
      ]
     },
     "execution_count": 23,
     "metadata": {},
     "output_type": "execute_result"
    }
   ],
   "source": [
    "datalabels.CE.isnull().value_counts()"
   ]
  },
  {
   "cell_type": "code",
   "execution_count": 24,
   "metadata": {},
   "outputs": [
    {
     "data": {
      "text/plain": [
       "2.0    175\n",
       "1.0    139\n",
       "0.0     58\n",
       "Name: CE, dtype: int64"
      ]
     },
     "execution_count": 24,
     "metadata": {},
     "output_type": "execute_result"
    }
   ],
   "source": [
    "datalabels.CE.value_counts()"
   ]
  },
  {
   "cell_type": "code",
   "execution_count": 25,
   "metadata": {},
   "outputs": [
    {
     "data": {
      "text/html": [
       "<div>\n",
       "<style scoped>\n",
       "    .dataframe tbody tr th:only-of-type {\n",
       "        vertical-align: middle;\n",
       "    }\n",
       "\n",
       "    .dataframe tbody tr th {\n",
       "        vertical-align: top;\n",
       "    }\n",
       "\n",
       "    .dataframe thead th {\n",
       "        text-align: right;\n",
       "    }\n",
       "</style>\n",
       "<table border=\"1\" class=\"dataframe\">\n",
       "  <thead>\n",
       "    <tr style=\"text-align: right;\">\n",
       "      <th></th>\n",
       "      <th>Subject_id</th>\n",
       "      <th>Quest_number</th>\n",
       "      <th>Stage</th>\n",
       "      <th>CE</th>\n",
       "      <th>Segment excluded</th>\n",
       "    </tr>\n",
       "  </thead>\n",
       "  <tbody>\n",
       "    <tr>\n",
       "      <th>377</th>\n",
       "      <td>H060_E2</td>\n",
       "      <td>S01</td>\n",
       "      <td>3</td>\n",
       "      <td>2.0</td>\n",
       "      <td>0</td>\n",
       "    </tr>\n",
       "    <tr>\n",
       "      <th>378</th>\n",
       "      <td>H060_E2</td>\n",
       "      <td>S02</td>\n",
       "      <td>3</td>\n",
       "      <td>2.0</td>\n",
       "      <td>0</td>\n",
       "    </tr>\n",
       "    <tr>\n",
       "      <th>379</th>\n",
       "      <td>H060_E2</td>\n",
       "      <td>S03</td>\n",
       "      <td>3</td>\n",
       "      <td>2.0</td>\n",
       "      <td>0</td>\n",
       "    </tr>\n",
       "    <tr>\n",
       "      <th>380</th>\n",
       "      <td>H060_E2</td>\n",
       "      <td>S04</td>\n",
       "      <td>2</td>\n",
       "      <td>2.0</td>\n",
       "      <td>0</td>\n",
       "    </tr>\n",
       "    <tr>\n",
       "      <th>381</th>\n",
       "      <td>H060_E2</td>\n",
       "      <td>S05</td>\n",
       "      <td>4</td>\n",
       "      <td>1.0</td>\n",
       "      <td>0</td>\n",
       "    </tr>\n",
       "    <tr>\n",
       "      <th>382</th>\n",
       "      <td>H060_E2</td>\n",
       "      <td>S06</td>\n",
       "      <td>2</td>\n",
       "      <td>2.0</td>\n",
       "      <td>0</td>\n",
       "    </tr>\n",
       "    <tr>\n",
       "      <th>383</th>\n",
       "      <td>H060_E2</td>\n",
       "      <td>S07</td>\n",
       "      <td>2</td>\n",
       "      <td>1.0</td>\n",
       "      <td>0</td>\n",
       "    </tr>\n",
       "    <tr>\n",
       "      <th>384</th>\n",
       "      <td>H060_E2</td>\n",
       "      <td>S08</td>\n",
       "      <td>1</td>\n",
       "      <td>1.0</td>\n",
       "      <td>0</td>\n",
       "    </tr>\n",
       "    <tr>\n",
       "      <th>385</th>\n",
       "      <td>H060_E2</td>\n",
       "      <td>S09</td>\n",
       "      <td>4</td>\n",
       "      <td>2.0</td>\n",
       "      <td>0</td>\n",
       "    </tr>\n",
       "    <tr>\n",
       "      <th>386</th>\n",
       "      <td>H060_E2</td>\n",
       "      <td>S10</td>\n",
       "      <td>2</td>\n",
       "      <td>2.0</td>\n",
       "      <td>0</td>\n",
       "    </tr>\n",
       "    <tr>\n",
       "      <th>387</th>\n",
       "      <td>H060_E2</td>\n",
       "      <td>S11</td>\n",
       "      <td>3</td>\n",
       "      <td>1.0</td>\n",
       "      <td>0</td>\n",
       "    </tr>\n",
       "    <tr>\n",
       "      <th>388</th>\n",
       "      <td>H060_E2</td>\n",
       "      <td>S12</td>\n",
       "      <td>3</td>\n",
       "      <td>2.0</td>\n",
       "      <td>0</td>\n",
       "    </tr>\n",
       "    <tr>\n",
       "      <th>389</th>\n",
       "      <td>H060_E2</td>\n",
       "      <td>S13</td>\n",
       "      <td>4</td>\n",
       "      <td>2.0</td>\n",
       "      <td>0</td>\n",
       "    </tr>\n",
       "    <tr>\n",
       "      <th>390</th>\n",
       "      <td>H060_E2</td>\n",
       "      <td>S14</td>\n",
       "      <td>4</td>\n",
       "      <td>1.0</td>\n",
       "      <td>0</td>\n",
       "    </tr>\n",
       "  </tbody>\n",
       "</table>\n",
       "</div>"
      ],
      "text/plain": [
       "    Subject_id Quest_number  Stage   CE  Segment excluded\n",
       "377    H060_E2          S01      3  2.0                 0\n",
       "378    H060_E2          S02      3  2.0                 0\n",
       "379    H060_E2          S03      3  2.0                 0\n",
       "380    H060_E2          S04      2  2.0                 0\n",
       "381    H060_E2          S05      4  1.0                 0\n",
       "382    H060_E2          S06      2  2.0                 0\n",
       "383    H060_E2          S07      2  1.0                 0\n",
       "384    H060_E2          S08      1  1.0                 0\n",
       "385    H060_E2          S09      4  2.0                 0\n",
       "386    H060_E2          S10      2  2.0                 0\n",
       "387    H060_E2          S11      3  1.0                 0\n",
       "388    H060_E2          S12      3  2.0                 0\n",
       "389    H060_E2          S13      4  2.0                 0\n",
       "390    H060_E2          S14      4  1.0                 0"
      ]
     },
     "execution_count": 25,
     "metadata": {},
     "output_type": "execute_result"
    }
   ],
   "source": [
    "datalabels[datalabels.Subject_id=='H060_E2']"
   ]
  },
  {
   "cell_type": "code",
   "execution_count": 36,
   "metadata": {},
   "outputs": [
    {
     "name": "stdout",
     "output_type": "stream",
     "text": [
      "./dream_data/H009/H009_E1_NREM_S09.mat\n",
      "./dream_data/H055/H055_E1_NREM_S02.mat \n",
      "./dream_data/H055/H055_E1_NREM_S02.mat\n",
      "./dream_data/H018/H018_E1_NREM_S07.mat\n"
     ]
    }
   ],
   "source": [
    "datafiles = [] \n",
    "filenames = []\n",
    "for d in datadir:\n",
    "    subjectpath = DATA_DIR + d+ '/'\n",
    "    trialfiles = os.listdir(subjectpath)\n",
    "    for filename in trialfiles:\n",
    "        datapath = subjectpath + filename\n",
    "        print(datapath)\n",
    "        filenames.append(filename)\n",
    "        datafiles.append(datapath)"
   ]
  },
  {
   "cell_type": "code",
   "execution_count": 3,
   "metadata": {},
   "outputs": [],
   "source": [
    "# notOpen = sio.loadmat('./data1/H055/H055_E1_NREM_S02.mat ')"
   ]
  },
  {
   "cell_type": "code",
   "execution_count": 4,
   "metadata": {},
   "outputs": [],
   "source": [
    "# arrays = {}\n",
    "# f = h5py.File('./data1/H055/H055_E1_NREM_S02.mat ')\n",
    "# for k, v in f.items():\n",
    "#     arrays[k] = np.array(v)\n",
    "#     print(k)\n",
    "# f.close()\n",
    "# arrays.keys()\n",
    "# arrays['datavr'].shape"
   ]
  },
  {
   "cell_type": "code",
   "execution_count": 39,
   "metadata": {},
   "outputs": [
    {
     "name": "stdout",
     "output_type": "stream",
     "text": [
      "H009_E1 S09 ['H009_E1_NREM_S09.mat']\n",
      "H018_E1 S07 ['H018_E1_NREM_S07.mat']\n",
      "H055_E1 S02 ['H055_E1_NREM_S02.mat ', 'H055_E1_NREM_S02.mat']\n",
      "'datavr'\n"
     ]
    }
   ],
   "source": [
    "alldata = []\n",
    "allabels = []\n",
    "\n",
    "for rowid in datalabels.index:\n",
    "    sid = datalabels.get_value(rowid, 'Subject_id')\n",
    "    qn = datalabels.get_value(rowid, 'Quest_number')\n",
    "    label = datalabels.get_value(rowid, 'CE')\n",
    "    # Find .mat file belongs to this trial\n",
    "    fname = re.compile(r\"^\"+sid + \"_.*_\" + qn+ \".mat\")\n",
    "    fnamelist = list(filter(fname.search, filenames))\n",
    "    # Check if any match\n",
    "    if len(fnamelist)>0:\n",
    "        print(sid, qn , fnamelist)\n",
    "        ind = filenames.index(fnamelist[0])\n",
    "        # Find the datapath of file\n",
    "        fpath = datafiles[ind]\n",
    "        # read the last 30 second of the file and append it to the list\n",
    "        try:\n",
    "            arrays = {}\n",
    "            f = h5py.File(fpath)\n",
    "            for k, v in f.items():\n",
    "                arrays[k] = np.array(v)\n",
    "\n",
    "            mydata = arrays['datavr'][-15000:,0:256]\n",
    "            alldata.append(mydata)\n",
    "            allabels.append(label)\n",
    "        except Exception as e:\n",
    "            print(e.__str__())"
   ]
  },
  {
   "cell_type": "code",
   "execution_count": 40,
   "metadata": {},
   "outputs": [
    {
     "data": {
      "text/plain": [
       "2"
      ]
     },
     "execution_count": 40,
     "metadata": {},
     "output_type": "execute_result"
    }
   ],
   "source": [
    "type(alldata)\n",
    "len(allabels)"
   ]
  },
  {
   "cell_type": "code",
   "execution_count": null,
   "metadata": {},
   "outputs": [],
   "source": [
    "data = list(zip(alldata,allabels))"
   ]
  },
  {
   "cell_type": "code",
   "execution_count": null,
   "metadata": {},
   "outputs": [],
   "source": [
    "# d,l = zip(*data)\n",
    "# len(d)"
   ]
  },
  {
   "cell_type": "code",
   "execution_count": 41,
   "metadata": {},
   "outputs": [],
   "source": [
    "fileName = 'all_data_zip'\n",
    "np.savez_compressed(fileName, data=alldata, labels=allabels)"
   ]
  },
  {
   "cell_type": "code",
   "execution_count": 42,
   "metadata": {},
   "outputs": [],
   "source": [
    "loaded = np.load(fileName+'.npz')"
   ]
  },
  {
   "cell_type": "code",
   "execution_count": 43,
   "metadata": {},
   "outputs": [],
   "source": [
    "d = loaded['data']"
   ]
  },
  {
   "cell_type": "code",
   "execution_count": 44,
   "metadata": {},
   "outputs": [],
   "source": [
    "l = loaded['labels']"
   ]
  },
  {
   "cell_type": "code",
   "execution_count": 45,
   "metadata": {},
   "outputs": [
    {
     "data": {
      "text/plain": [
       "(2, 15000, 256)"
      ]
     },
     "execution_count": 45,
     "metadata": {},
     "output_type": "execute_result"
    }
   ],
   "source": [
    "d.shape"
   ]
  },
  {
   "cell_type": "code",
   "execution_count": 46,
   "metadata": {},
   "outputs": [
    {
     "data": {
      "text/plain": [
       "(2,)"
      ]
     },
     "execution_count": 46,
     "metadata": {},
     "output_type": "execute_result"
    }
   ],
   "source": [
    "l.shape"
   ]
  },
  {
   "cell_type": "code",
   "execution_count": null,
   "metadata": {},
   "outputs": [],
   "source": [
    "#np.savez(filename, data, allow_pickle=True, fix_imports=True)"
   ]
  },
  {
   "cell_type": "markdown",
   "metadata": {},
   "source": [
    "## DATA PREPARATION - Delta/Gamma"
   ]
  },
  {
   "cell_type": "code",
   "execution_count": 32,
   "metadata": {},
   "outputs": [
    {
     "name": "stdout",
     "output_type": "stream",
     "text": [
      "(256, 3)\n",
      "(256, 2)\n"
     ]
    }
   ],
   "source": [
    "locs_3D = sio.loadmat(channels_coord)['locstemp']\n",
    "print(locs_3D.shape)\n",
    "locs_2D = map_to_2d(locs_3D)\n",
    "print(locs_2D.shape)"
   ]
  },
  {
   "cell_type": "code",
   "execution_count": 14,
   "metadata": {},
   "outputs": [],
   "source": [
    "a_trial = sio.loadmat('./dream_data_fft/H009_deltagamma/H009_E1_NREM_S01_DeltaGamma.mat')"
   ]
  },
  {
   "cell_type": "code",
   "execution_count": 15,
   "metadata": {},
   "outputs": [
    {
     "data": {
      "text/plain": [
       "(257, 60)"
      ]
     },
     "execution_count": 15,
     "metadata": {},
     "output_type": "execute_result"
    }
   ],
   "source": [
    "a_trial['delta'].shape"
   ]
  },
  {
   "cell_type": "code",
   "execution_count": 16,
   "metadata": {},
   "outputs": [
    {
     "data": {
      "text/plain": [
       "(257, 60)"
      ]
     },
     "execution_count": 16,
     "metadata": {},
     "output_type": "execute_result"
    }
   ],
   "source": [
    "a_trial['gamma'].shape"
   ]
  },
  {
   "cell_type": "code",
   "execution_count": 17,
   "metadata": {},
   "outputs": [],
   "source": [
    "delta =  a_trial['delta'].T[:,0:256]\n",
    "gamma = a_trial['gamma'].T[:,0:256]\n"
   ]
  },
  {
   "cell_type": "code",
   "execution_count": 18,
   "metadata": {},
   "outputs": [],
   "source": [
    "windowed_trial = []\n",
    "for ind in range(0, delta.shape[0]):\n",
    "        concat = np.concatenate((delta[ind], gamma[ind]), axis=None)\n",
    "        windowed_trial.append(concat)"
   ]
  },
  {
   "cell_type": "code",
   "execution_count": null,
   "metadata": {},
   "outputs": [],
   "source": []
  },
  {
   "cell_type": "code",
   "execution_count": 29,
   "metadata": {},
   "outputs": [],
   "source": [
    "two_channel_data = np.asarray(windowed_trial)"
   ]
  },
  {
   "cell_type": "code",
   "execution_count": 30,
   "metadata": {},
   "outputs": [
    {
     "data": {
      "text/plain": [
       "(60, 512)"
      ]
     },
     "execution_count": 30,
     "metadata": {},
     "output_type": "execute_result"
    }
   ],
   "source": [
    "two_channel_data.shape"
   ]
  },
  {
   "cell_type": "code",
   "execution_count": 36,
   "metadata": {},
   "outputs": [
    {
     "name": "stdout",
     "output_type": "stream",
     "text": [
      "Interpolated 60/60\r",
      "\r"
     ]
    }
   ],
   "source": [
    "images = gen_images(locs_2D, two_channel_data, 32)"
   ]
  },
  {
   "cell_type": "code",
   "execution_count": 37,
   "metadata": {},
   "outputs": [
    {
     "data": {
      "text/plain": [
       "(60, 2, 32, 32)"
      ]
     },
     "execution_count": 37,
     "metadata": {},
     "output_type": "execute_result"
    }
   ],
   "source": [
    "images.shape"
   ]
  },
  {
   "cell_type": "code",
   "execution_count": 47,
   "metadata": {},
   "outputs": [
    {
     "data": {
      "text/plain": [
       "(2, 32, 32)"
      ]
     },
     "execution_count": 47,
     "metadata": {},
     "output_type": "execute_result"
    }
   ],
   "source": [
    "test_image = images[0]\n",
    "test_image.shape"
   ]
  },
  {
   "cell_type": "code",
   "execution_count": 52,
   "metadata": {},
   "outputs": [
    {
     "data": {
      "text/plain": [
       "(32, 32, 2)"
      ]
     },
     "execution_count": 52,
     "metadata": {},
     "output_type": "execute_result"
    }
   ],
   "source": [
    "test_roll = np.rollaxis(test_image,0,3)\n",
    "test_roll.shape"
   ]
  },
  {
   "cell_type": "code",
   "execution_count": 54,
   "metadata": {},
   "outputs": [
    {
     "data": {
      "text/plain": [
       "<matplotlib.image.AxesImage at 0x7f3408584438>"
      ]
     },
     "execution_count": 54,
     "metadata": {},
     "output_type": "execute_result"
    },
    {
     "data": {
      "image/png": "[encoded data removed]",
      "text/plain": [
       "<Figure size 288x288 with 1 Axes>"
      ]
     },
     "metadata": {},
     "output_type": "display_data"
    }
   ],
   "source": [
    "plt.matshow(test_roll[:,:,1].reshape(32,32))"
   ]
  },
  {
   "cell_type": "code",
   "execution_count": 48,
   "metadata": {},
   "outputs": [
    {
     "data": {
      "text/plain": [
       "<matplotlib.image.AxesImage at 0x7f34086dea58>"
      ]
     },
     "execution_count": 48,
     "metadata": {},
     "output_type": "execute_result"
    },
    {
     "data": {
      "image/png": "[encoded data removed]",
      "text/plain": [
       "<Figure size 288x288 with 1 Axes>"
      ]
     },
     "metadata": {},
     "output_type": "display_data"
    }
   ],
   "source": [
    "plt.matshow(test_image[0].reshape(32,32))"
   ]
  },
  {
   "cell_type": "code",
   "execution_count": 49,
   "metadata": {},
   "outputs": [
    {
     "data": {
      "text/plain": [
       "<matplotlib.image.AxesImage at 0x7f34086417b8>"
      ]
     },
     "execution_count": 49,
     "metadata": {},
     "output_type": "execute_result"
    },
    {
     "data": {
      "image/png": "[encoded data removed]",
      "text/plain": [
       "<Figure size 288x288 with 1 Axes>"
      ]
     },
     "metadata": {},
     "output_type": "display_data"
    }
   ],
   "source": [
    "plt.matshow(test_image[1].reshape(32,32))"
   ]
  },
  {
   "cell_type": "code",
   "execution_count": 10,
   "metadata": {},
   "outputs": [
    {
     "name": "stdout",
     "output_type": "stream",
     "text": [
      "./dream_data_fft/H009_deltagamma/H009_E1_NREM_S02_DeltaGamma.mat\n",
      "./dream_data_fft/H009_deltagamma/H009_E1_NREM_S01_DeltaGamma.mat\n",
      "./dream_data_fft/H009_deltagamma/H009_E1_NREM_S05_DeltaGamma.mat\n",
      "./dream_data_fft/H009_deltagamma/H009_E1_NREM_S06_DeltaGamma.mat\n",
      "./dream_data_fft/H009_deltagamma/H009_E2_NREM_S07_DeltaGamma.mat\n",
      "./dream_data_fft/H009_deltagamma/H009_E1_NREM_S07_DeltaGamma.mat\n",
      "./dream_data_fft/H009_deltagamma/H009_E1_REM_S04_DeltaGamma.mat\n",
      "./dream_data_fft/H009_deltagamma/H009_E1_REM_S08_DeltaGamma.mat\n",
      "./dream_data_fft/H009_deltagamma/H009_E1_REM_S12_DeltaGamma.mat\n",
      "./dream_data_fft/H009_deltagamma/H009_E2_NREM_S08_DeltaGamma.mat\n",
      "./dream_data_fft/H009_deltagamma/H009_E1_NREM_S03_DeltaGamma.mat\n",
      "./dream_data_fft/H009_deltagamma/H009_E2_NREM_S09_DeltaGamma.mat\n",
      "./dream_data_fft/H009_deltagamma/H009_E1_NREM_S09_DeltaGamma.mat\n",
      "./dream_data_fft/H009_deltagamma/H009_E2_NREM_S01_DeltaGamma.mat\n",
      "./dream_data_fft/H019_deltagamma/H019_E1_NREM_S11_DeltaGamma.mat\n",
      "./dream_data_fft/H019_deltagamma/H019_E1_NREM_S09_DeltaGamma.mat\n",
      "./dream_data_fft/H019_deltagamma/H019_E1_NREM_S07_DeltaGamma.mat\n",
      "./dream_data_fft/H019_deltagamma/H019_E1_NREM_S04_DeltaGamma.mat\n",
      "./dream_data_fft/H019_deltagamma/H019_E1_NREM_S08_DeltaGamma.mat\n",
      "./dream_data_fft/H019_deltagamma/H019_E1_NREM_S06_DeltaGamma.mat\n",
      "./dream_data_fft/H019_deltagamma/H019_E1_NREM_S03_DeltaGamma.mat\n",
      "./dream_data_fft/H019_deltagamma/H019_E1_NREM_S02_DeltaGamma.mat\n",
      "./dream_data_fft/H019_deltagamma/H019_E2_NREM_S01_DeltaGamma.mat\n",
      "./dream_data_fft/H019_deltagamma/H019_E1_NREM_S01_DeltaGamma.mat\n",
      "./dream_data_fft/H019_deltagamma/H019_E1_NREM_S12_DeltaGamma.mat\n",
      "./dream_data_fft/H019_deltagamma/H019_E2_NREM_S08_DeltaGamma.mat\n",
      "./dream_data_fft/H019_deltagamma/H019_E2_NREM_S03_DeltaGamma.mat\n",
      "./dream_data_fft/H019_deltagamma/H019_E2_REM_S09_DeltaGamma.mat\n",
      "./dream_data_fft/H019_deltagamma/H019_E1_REM_S13_DeltaGamma.mat\n",
      "./dream_data_fft/H019_deltagamma/H019_E1_REM_S10_DeltaGamma.mat\n",
      "./dream_data_fft/H019_deltagamma/H019_E2_NREM_S06_DeltaGamma.mat\n",
      "./dream_data_fft/H019_deltagamma/H019_E2_REM_S05_DeltaGamma.mat\n",
      "./dream_data_fft/H019_deltagamma/H019_E2_NREM_S07_DeltaGamma.mat\n"
     ]
    }
   ],
   "source": [
    "DATA_DIR_FFT = './dream_data_fft/'\n",
    "datadir = os.listdir(DATA_DIR_FFT)\n",
    "datafiles = [] \n",
    "filenames = []\n",
    "for d in datadir:\n",
    "    subjectpath = DATA_DIR_FFT + d+ '/'\n",
    "    trialfiles = os.listdir(subjectpath)\n",
    "    for filename in trialfiles:\n",
    "        datapath = subjectpath + filename\n",
    "        print(datapath)\n",
    "        filenames.append(filename)\n",
    "        datafiles.append(datapath)"
   ]
  },
  {
   "cell_type": "code",
   "execution_count": 22,
   "metadata": {},
   "outputs": [
    {
     "name": "stdout",
     "output_type": "stream",
     "text": [
      "H009_E1 S01 ['H009_E1_NREM_S01_DeltaGamma.mat']\n",
      "H009_E1 S02 ['H009_E1_NREM_S02_DeltaGamma.mat']\n",
      "H009_E1 S03 ['H009_E1_NREM_S03_DeltaGamma.mat']\n",
      "H009_E1 S04 ['H009_E1_REM_S04_DeltaGamma.mat']\n",
      "H009_E1 S05 ['H009_E1_NREM_S05_DeltaGamma.mat']\n",
      "H009_E1 S06 ['H009_E1_NREM_S06_DeltaGamma.mat']\n",
      "H009_E1 S07 ['H009_E1_NREM_S07_DeltaGamma.mat']\n",
      "H009_E1 S08 ['H009_E1_REM_S08_DeltaGamma.mat']\n",
      "H009_E1 S09 ['H009_E1_NREM_S09_DeltaGamma.mat']\n",
      "H009_E1 S12 ['H009_E1_REM_S12_DeltaGamma.mat']\n",
      "H009_E2 S01 ['H009_E2_NREM_S01_DeltaGamma.mat']\n",
      "H009_E2 S07 ['H009_E2_NREM_S07_DeltaGamma.mat']\n",
      "H009_E2 S08 ['H009_E2_NREM_S08_DeltaGamma.mat']\n",
      "H009_E2 S09 ['H009_E2_NREM_S09_DeltaGamma.mat']\n",
      "H019_E1 S01 ['H019_E1_NREM_S01_DeltaGamma.mat']\n",
      "H019_E1 S02 ['H019_E1_NREM_S02_DeltaGamma.mat']\n",
      "H019_E1 S03 ['H019_E1_NREM_S03_DeltaGamma.mat']\n",
      "H019_E1 S04 ['H019_E1_NREM_S04_DeltaGamma.mat']\n",
      "H019_E1 S06 ['H019_E1_NREM_S06_DeltaGamma.mat']\n",
      "H019_E1 S07 ['H019_E1_NREM_S07_DeltaGamma.mat']\n",
      "H019_E1 S08 ['H019_E1_NREM_S08_DeltaGamma.mat']\n",
      "H019_E1 S09 ['H019_E1_NREM_S09_DeltaGamma.mat']\n",
      "H019_E1 S10 ['H019_E1_REM_S10_DeltaGamma.mat']\n",
      "H019_E1 S11 ['H019_E1_NREM_S11_DeltaGamma.mat']\n",
      "H019_E1 S12 ['H019_E1_NREM_S12_DeltaGamma.mat']\n",
      "H019_E1 S13 ['H019_E1_REM_S13_DeltaGamma.mat']\n",
      "H019_E2 S01 ['H019_E2_NREM_S01_DeltaGamma.mat']\n",
      "H019_E2 S03 ['H019_E2_NREM_S03_DeltaGamma.mat']\n",
      "H019_E2 S05 ['H019_E2_REM_S05_DeltaGamma.mat']\n",
      "H019_E2 S06 ['H019_E2_NREM_S06_DeltaGamma.mat']\n",
      "H019_E2 S07 ['H019_E2_NREM_S07_DeltaGamma.mat']\n",
      "H019_E2 S08 ['H019_E2_NREM_S08_DeltaGamma.mat']\n",
      "H019_E2 S09 ['H019_E2_REM_S09_DeltaGamma.mat']\n"
     ]
    }
   ],
   "source": [
    "alldata = []\n",
    "allabels = []\n",
    "\n",
    "for rowid in datalabels.index:\n",
    "    sid = datalabels.get_value(rowid, 'Subject_id')\n",
    "    qn = datalabels.get_value(rowid, 'Quest_number')\n",
    "    label = datalabels.get_value(rowid, 'CE')\n",
    "    # Find .mat file belongs to this trial\n",
    "    fname = re.compile(r\"^\"+sid + \"_.*_\" + qn+ \"_DeltaGamma.mat\")\n",
    "    fnamelist = list(filter(fname.search, filenames))\n",
    "    # Check if any match\n",
    "    if len(fnamelist)>0:\n",
    "        print(sid, qn , fnamelist)\n",
    "        ind = filenames.index(fnamelist[0])\n",
    "        # Find the datapath of file\n",
    "        fpath = datafiles[ind]\n",
    "        # read the last 30 second of the file and append it to the list\n",
    "        try:\n",
    "            a_trial = sio.loadmat(fpath)\n",
    "            delta =  a_trial['delta'].T[:,0:256]\n",
    "            gamma = a_trial['gamma'].T[:,0:256]\n",
    "            windowed_trial = []\n",
    "            for ind in range(0, delta.shape[0]):\n",
    "                concat = np.concatenate((delta[ind], gamma[ind]), axis=None)\n",
    "                windowed_trial.append(concat)  \n",
    "            two_channel_data = np.asarray(windowed_trial)\n",
    "            alldata.append(two_channel_data)\n",
    "            allabels.append(label)\n",
    "        except Exception as e:\n",
    "            print(e.__str__())"
   ]
  },
  {
   "cell_type": "code",
   "execution_count": 29,
   "metadata": {},
   "outputs": [
    {
     "data": {
      "text/plain": [
       "(60, 512)"
      ]
     },
     "execution_count": 29,
     "metadata": {},
     "output_type": "execute_result"
    }
   ],
   "source": [
    "alldata[0].shape"
   ]
  },
  {
   "cell_type": "code",
   "execution_count": 26,
   "metadata": {},
   "outputs": [
    {
     "data": {
      "text/plain": [
       "33"
      ]
     },
     "execution_count": 26,
     "metadata": {},
     "output_type": "execute_result"
    }
   ],
   "source": []
  },
  {
   "cell_type": "code",
   "execution_count": null,
   "metadata": {},
   "outputs": [],
   "source": []
  }
 ],
 "metadata": {
  "kernelspec": {
   "display_name": "Python 3",
   "language": "python",
   "name": "python3"
  },
  "language_info": {
   "codemirror_mode": {
    "name": "ipython",
    "version": 3
   },
   "file_extension": ".py",
   "mimetype": "text/x-python",
   "name": "python",
   "nbconvert_exporter": "python",
   "pygments_lexer": "ipython3",
   "version": "3.6.5"
  }
 },
 "nbformat": 4,
 "nbformat_minor": 2
}
